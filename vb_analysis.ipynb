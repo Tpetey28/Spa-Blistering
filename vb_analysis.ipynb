{
 "cells": [
  {
   "cell_type": "code",
   "execution_count": 1,
   "id": "8bd12110-8e70-4877-aa22-2e4b0990cb02",
   "metadata": {},
   "outputs": [],
   "source": [
    "import pandas as pd\n",
    "import numpy as np"
   ]
  },
  {
   "cell_type": "code",
   "execution_count": 2,
   "id": "461924a4-40c1-4430-8d1c-722f97837ae0",
   "metadata": {},
   "outputs": [],
   "source": [
    "vb = pd.read_excel('vb_orders.xlsx')\n",
    "results = pd.read_excel('results.xlsx')"
   ]
  },
  {
   "cell_type": "markdown",
   "id": "ef9693b4-e6bc-4bb0-bca9-ef4adf63dc85",
   "metadata": {},
   "source": [
    "# VB Cleaning"
   ]
  },
  {
   "cell_type": "code",
   "execution_count": 5,
   "id": "7b4e8c09-184e-42c4-8e71-32250781268c",
   "metadata": {},
   "outputs": [],
   "source": [
    "#dropping columns we don't need\n",
    "vb_keep = ['Serial #', 'Order #', 'Model', 'Spa Series', 'Shell Color', 'Order Date']\n",
    "\n",
    "for col in vb:\n",
    "    if col not in vb_keep:\n",
    "        vb.drop(col, inplace = True, axis = 1)"
   ]
  },
  {
   "cell_type": "code",
   "execution_count": 7,
   "id": "2cc193be-624a-4e95-b818-39d6270417d5",
   "metadata": {},
   "outputs": [],
   "source": [
    "#changing order date to datetime format\n",
    "vb['Order Date'] = pd.to_datetime(vb['Order Date'])"
   ]
  },
  {
   "cell_type": "code",
   "execution_count": 11,
   "id": "8424e34b-4d3b-4193-b4b3-7d6474095dfe",
   "metadata": {},
   "outputs": [],
   "source": [
    "#renaming columns\n",
    "vb.rename({'Serial #':'serial#', 'Order #':'order#', 'Model':'model', 'Spa Series':'series','Shell Color':'shell_color','Order Date':'order_date'}, inplace = True, axis = 1)"
   ]
  },
  {
   "cell_type": "markdown",
   "id": "b4b0cf79-64fd-4c68-a404-757a76c262ab",
   "metadata": {},
   "source": [
    "# Random Forest Model Results Cleaning"
   ]
  },
  {
   "cell_type": "code",
   "execution_count": 13,
   "id": "855d1121-4b6f-4ae5-b931-829cc2089d7d",
   "metadata": {},
   "outputs": [],
   "source": [
    "#dropping columns we don't care about\n",
    "\n",
    "results_keep = ['serial#','blister','shell_color','model','prediction','probability']\n",
    "\n",
    "for col in results:\n",
    "    if col not in results_keep:\n",
    "        results.drop(col, inplace = True, axis = 1)"
   ]
  },
  {
   "cell_type": "code",
   "execution_count": 16,
   "id": "42121714-6c93-47fc-9cb4-b61becf479f0",
   "metadata": {},
   "outputs": [],
   "source": [
    "#making serial# an object/string datatype so that merging is possible\n",
    "\n",
    "results['serial#'] = results['serial#'].astype(str)"
   ]
  },
  {
   "cell_type": "markdown",
   "id": "c66e52af-a840-4931-9f2a-1eaf067496ab",
   "metadata": {},
   "source": [
    "# Merging VB orders & Model Results\n",
    "\n",
    "This is being done to isolate the model results for VB orders only."
   ]
  },
  {
   "cell_type": "code",
   "execution_count": 17,
   "id": "f80b8ec4-c78b-4524-b343-d5bfe88f0a35",
   "metadata": {},
   "outputs": [],
   "source": [
    "#inner join on serial#\n",
    "vb_results = pd.merge(vb, results, on = 'serial#', how = 'inner')"
   ]
  },
  {
   "cell_type": "code",
   "execution_count": 19,
   "id": "411bf6fd-ddc1-475b-af8d-d6ccc9d4955e",
   "metadata": {},
   "outputs": [],
   "source": [
    "#sorting values highest to lowest probability\n",
    "vb_results.sort_values('probability', ascending = False, inplace = True)"
   ]
  },
  {
   "cell_type": "code",
   "execution_count": 22,
   "id": "e0b6acb0-2352-4a2a-8bc5-34f0e80f8fb5",
   "metadata": {},
   "outputs": [],
   "source": [
    "#exporting results to excel file\n",
    "vb_results.to_excel('vb_results.xlsx', index = False)"
   ]
  }
 ],
 "metadata": {
  "kernelspec": {
   "display_name": "Python 3 (ipykernel)",
   "language": "python",
   "name": "python3"
  },
  "language_info": {
   "codemirror_mode": {
    "name": "ipython",
    "version": 3
   },
   "file_extension": ".py",
   "mimetype": "text/x-python",
   "name": "python",
   "nbconvert_exporter": "python",
   "pygments_lexer": "ipython3",
   "version": "3.10.0"
  }
 },
 "nbformat": 4,
 "nbformat_minor": 5
}
