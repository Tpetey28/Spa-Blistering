{
 "cells": [
  {
   "cell_type": "code",
   "execution_count": 1,
   "id": "ce4fdc9e-dbe0-4060-a757-4a760a3ffb2d",
   "metadata": {},
   "outputs": [],
   "source": [
    "import pandas as pd\n",
    "import numpy as np\n",
    "import matplotlib.pyplot as plt\n",
    "%matplotlib inline"
   ]
  },
  {
   "cell_type": "markdown",
   "id": "949f0d27-1d4d-4ae9-967f-9a4917502ee4",
   "metadata": {},
   "source": [
    "# Assessing \"All Spas\" Tab\n",
    "\n",
    "This tab includes the serial#, model, and completion datetime for all spas manufactured from 2020 - Nov 22 2022"
   ]
  },
  {
   "cell_type": "markdown",
   "id": "667ab63f-a1ea-44f3-91e3-90d46b9cbc48",
   "metadata": {},
   "source": [
    "## Issues Identified:\n",
    "- Time Description has ~ 12k missing values, and some are labeled \"No Data\"\n",
    "- Serial# is of the object datatype. It might need to be converted to integer.\n",
    "- Year and Month columns came from previous assessment. Those will be dropped.\n",
    "- There are many duplicate serial#'s as expected. The most recent serial# should be kept. "
   ]
  },
  {
   "cell_type": "code",
   "execution_count": 2,
   "id": "8c1fe17b-81ab-4260-a55e-4cbb7efe24fd",
   "metadata": {},
   "outputs": [],
   "source": [
    "df = pd.read_excel('Blister Returns.xlsx', sheet_name = 'All Spas')"
   ]
  },
  {
   "cell_type": "code",
   "execution_count": 3,
   "id": "d110a783-34cf-4fdf-a17f-66d77071c5d6",
   "metadata": {},
   "outputs": [
    {
     "data": {
      "text/plain": [
       "(82165, 6)"
      ]
     },
     "execution_count": 3,
     "metadata": {},
     "output_type": "execute_result"
    }
   ],
   "source": [
    "df.shape"
   ]
  },
  {
   "cell_type": "code",
   "execution_count": 4,
   "id": "b9ef9659-bbf1-462e-a101-65fe53625747",
   "metadata": {},
   "outputs": [
    {
     "name": "stdout",
     "output_type": "stream",
     "text": [
      "<class 'pandas.core.frame.DataFrame'>\n",
      "RangeIndex: 82165 entries, 0 to 82164\n",
      "Data columns (total 6 columns):\n",
      " #   Column            Non-Null Count  Dtype         \n",
      "---  ------            --------------  -----         \n",
      " 0   serial#           82165 non-null  object        \n",
      " 1   model             82165 non-null  object        \n",
      " 2   CompleteDate      82165 non-null  datetime64[ns]\n",
      " 3   Year              82165 non-null  int64         \n",
      " 4   Month             82165 non-null  int64         \n",
      " 5   Time Description  69915 non-null  object        \n",
      "dtypes: datetime64[ns](1), int64(2), object(3)\n",
      "memory usage: 3.8+ MB\n"
     ]
    }
   ],
   "source": [
    "df.info()"
   ]
  },
  {
   "cell_type": "code",
   "execution_count": 5,
   "id": "ff57f74b-2896-4cd8-926d-a49f65b07737",
   "metadata": {},
   "outputs": [
    {
     "name": "stdout",
     "output_type": "stream",
     "text": [
      "Minimum Date 2020-03-02 06:19:00\n",
      "Max Date 2022-11-22 13:12:33\n"
     ]
    }
   ],
   "source": [
    "print('Minimum Date', df['CompleteDate'].min())\n",
    "print('Max Date', df['CompleteDate'].max())"
   ]
  },
  {
   "cell_type": "code",
   "execution_count": 6,
   "id": "3154bfa6-6b30-4051-b7d2-1ba8fb2c7881",
   "metadata": {},
   "outputs": [],
   "source": [
    "duplicate_serial = df[df.duplicated('serial#')]"
   ]
  },
  {
   "cell_type": "code",
   "execution_count": 7,
   "id": "a421bfb5-2d54-498c-b554-108ffa7bf654",
   "metadata": {},
   "outputs": [
    {
     "data": {
      "text/plain": [
       "X8        6733\n",
       "A8        6221\n",
       "R7        6026\n",
       "A7L       5664\n",
       "R6L       5251\n",
       "R7L       5217\n",
       "X7        5187\n",
       "A7        5163\n",
       "X6L       3820\n",
       "R6        2879\n",
       "R5L       2784\n",
       "A6L       2754\n",
       "X7L       2715\n",
       "A9L       2330\n",
       "A8L       2284\n",
       "A6        1742\n",
       "A5L       1686\n",
       "M9        1608\n",
       "STIL7     1489\n",
       "R8        1415\n",
       "M8        1402\n",
       "A8D       1372\n",
       "X5L       1363\n",
       "M7        1304\n",
       "X8L       1240\n",
       "STIL5      687\n",
       "X6R        674\n",
       "R8L        569\n",
       "S150       303\n",
       "M6         278\n",
       "S200         4\n",
       "TRITON       1\n",
       "Name: model, dtype: int64"
      ]
     },
     "execution_count": 7,
     "metadata": {},
     "output_type": "execute_result"
    }
   ],
   "source": [
    "df['model'].value_counts()"
   ]
  },
  {
   "cell_type": "code",
   "execution_count": 8,
   "id": "5d6d8d3b-6ca0-42a2-b265-e70a82d03991",
   "metadata": {},
   "outputs": [
    {
     "data": {
      "text/plain": [
       "6AM-Noon        18544\n",
       "Noon-6PM        17448\n",
       "6PM-Midnight    17377\n",
       "Midnight-6AM    16411\n",
       "No Data           135\n",
       "Name: Time Description, dtype: int64"
      ]
     },
     "execution_count": 8,
     "metadata": {},
     "output_type": "execute_result"
    }
   ],
   "source": [
    "df['Time Description'].value_counts()"
   ]
  },
  {
   "cell_type": "markdown",
   "id": "4dd2d82f-df28-4528-bc1a-3d8f29a83e1c",
   "metadata": {},
   "source": [
    "# Cleaning All Spas"
   ]
  },
  {
   "cell_type": "code",
   "execution_count": 9,
   "id": "9da839c3-4fbb-4b3f-8375-d2c238948bc8",
   "metadata": {},
   "outputs": [],
   "source": [
    "df_clean = df.copy()"
   ]
  },
  {
   "cell_type": "markdown",
   "id": "7e454027-5dcd-4c46-9975-c283a26703ed",
   "metadata": {},
   "source": [
    "## Issue: There are many duplicate serial#'s as expected. The most recent serial# should be kept. \n",
    "\n",
    "## Resolution: Remove duplicates but keep the most recent version"
   ]
  },
  {
   "cell_type": "code",
   "execution_count": 10,
   "id": "b4608189-b229-435f-a43f-59b2ae0d5c1e",
   "metadata": {},
   "outputs": [
    {
     "data": {
      "text/html": [
       "<div>\n",
       "<style scoped>\n",
       "    .dataframe tbody tr th:only-of-type {\n",
       "        vertical-align: middle;\n",
       "    }\n",
       "\n",
       "    .dataframe tbody tr th {\n",
       "        vertical-align: top;\n",
       "    }\n",
       "\n",
       "    .dataframe thead th {\n",
       "        text-align: right;\n",
       "    }\n",
       "</style>\n",
       "<table border=\"1\" class=\"dataframe\">\n",
       "  <thead>\n",
       "    <tr style=\"text-align: right;\">\n",
       "      <th></th>\n",
       "      <th>serial#</th>\n",
       "      <th>model</th>\n",
       "      <th>CompleteDate</th>\n",
       "      <th>Year</th>\n",
       "      <th>Month</th>\n",
       "      <th>Time Description</th>\n",
       "    </tr>\n",
       "  </thead>\n",
       "  <tbody>\n",
       "    <tr>\n",
       "      <th>0</th>\n",
       "      <td>235854</td>\n",
       "      <td>A5L</td>\n",
       "      <td>2020-03-02 06:19:00</td>\n",
       "      <td>2020</td>\n",
       "      <td>3</td>\n",
       "      <td>NaN</td>\n",
       "    </tr>\n",
       "  </tbody>\n",
       "</table>\n",
       "</div>"
      ],
      "text/plain": [
       "  serial# model        CompleteDate  Year  Month Time Description\n",
       "0  235854   A5L 2020-03-02 06:19:00  2020      3              NaN"
      ]
     },
     "execution_count": 10,
     "metadata": {},
     "output_type": "execute_result"
    }
   ],
   "source": [
    "df_clean.head(1)"
   ]
  },
  {
   "cell_type": "code",
   "execution_count": 11,
   "id": "2ac9cd18-35d8-41fe-b73f-9d14f507ecf0",
   "metadata": {},
   "outputs": [],
   "source": [
    "df_clean = df_clean.sort_values('CompleteDate').drop_duplicates('serial#', keep='last')"
   ]
  },
  {
   "cell_type": "markdown",
   "id": "719b040e-c9cd-4e47-827e-fad5c6e41b7b",
   "metadata": {},
   "source": [
    "### Test: Make sure duplicates were removed"
   ]
  },
  {
   "cell_type": "code",
   "execution_count": 12,
   "id": "f8721299-ba8c-4647-8f91-e0524385ee31",
   "metadata": {},
   "outputs": [
    {
     "data": {
      "text/html": [
       "<div>\n",
       "<style scoped>\n",
       "    .dataframe tbody tr th:only-of-type {\n",
       "        vertical-align: middle;\n",
       "    }\n",
       "\n",
       "    .dataframe tbody tr th {\n",
       "        vertical-align: top;\n",
       "    }\n",
       "\n",
       "    .dataframe thead th {\n",
       "        text-align: right;\n",
       "    }\n",
       "</style>\n",
       "<table border=\"1\" class=\"dataframe\">\n",
       "  <thead>\n",
       "    <tr style=\"text-align: right;\">\n",
       "      <th></th>\n",
       "      <th>serial#</th>\n",
       "      <th>model</th>\n",
       "      <th>CompleteDate</th>\n",
       "      <th>Year</th>\n",
       "      <th>Month</th>\n",
       "      <th>Time Description</th>\n",
       "    </tr>\n",
       "  </thead>\n",
       "  <tbody>\n",
       "  </tbody>\n",
       "</table>\n",
       "</div>"
      ],
      "text/plain": [
       "Empty DataFrame\n",
       "Columns: [serial#, model, CompleteDate, Year, Month, Time Description]\n",
       "Index: []"
      ]
     },
     "execution_count": 12,
     "metadata": {},
     "output_type": "execute_result"
    }
   ],
   "source": [
    "duplicated_serial = df_clean[df_clean.duplicated('serial#')]\n",
    "duplicated_serial"
   ]
  },
  {
   "cell_type": "markdown",
   "id": "65306483-6330-4b02-aded-190e9a65ad39",
   "metadata": {},
   "source": [
    "## Issue: Year and Month columns came from previous assessment. Those will be dropped.\n",
    "\n",
    "## Resolution: Drop these columns from dataframe"
   ]
  },
  {
   "cell_type": "code",
   "execution_count": 13,
   "id": "46886433-d696-43d7-9440-25882bd42e59",
   "metadata": {},
   "outputs": [],
   "source": [
    "df_clean.drop(['Year', 'Month'], axis=1, inplace=True)"
   ]
  },
  {
   "cell_type": "markdown",
   "id": "a54b3317-260b-436d-ad4b-f402e10bd580",
   "metadata": {},
   "source": [
    "### Test: Make sure the columns were dropped successfully"
   ]
  },
  {
   "cell_type": "code",
   "execution_count": 14,
   "id": "1b07237b-bff8-4222-a24c-17cdf676f5a8",
   "metadata": {},
   "outputs": [
    {
     "data": {
      "text/html": [
       "<div>\n",
       "<style scoped>\n",
       "    .dataframe tbody tr th:only-of-type {\n",
       "        vertical-align: middle;\n",
       "    }\n",
       "\n",
       "    .dataframe tbody tr th {\n",
       "        vertical-align: top;\n",
       "    }\n",
       "\n",
       "    .dataframe thead th {\n",
       "        text-align: right;\n",
       "    }\n",
       "</style>\n",
       "<table border=\"1\" class=\"dataframe\">\n",
       "  <thead>\n",
       "    <tr style=\"text-align: right;\">\n",
       "      <th></th>\n",
       "      <th>serial#</th>\n",
       "      <th>model</th>\n",
       "      <th>CompleteDate</th>\n",
       "      <th>Time Description</th>\n",
       "    </tr>\n",
       "  </thead>\n",
       "  <tbody>\n",
       "    <tr>\n",
       "      <th>0</th>\n",
       "      <td>235854</td>\n",
       "      <td>A5L</td>\n",
       "      <td>2020-03-02 06:19:00</td>\n",
       "      <td>NaN</td>\n",
       "    </tr>\n",
       "    <tr>\n",
       "      <th>1</th>\n",
       "      <td>235905</td>\n",
       "      <td>A9L</td>\n",
       "      <td>2020-03-02 06:33:00</td>\n",
       "      <td>NaN</td>\n",
       "    </tr>\n",
       "    <tr>\n",
       "      <th>2</th>\n",
       "      <td>235881</td>\n",
       "      <td>A5L</td>\n",
       "      <td>2020-03-02 06:47:00</td>\n",
       "      <td>NaN</td>\n",
       "    </tr>\n",
       "    <tr>\n",
       "      <th>3</th>\n",
       "      <td>235873</td>\n",
       "      <td>A5L</td>\n",
       "      <td>2020-03-02 06:56:00</td>\n",
       "      <td>NaN</td>\n",
       "    </tr>\n",
       "    <tr>\n",
       "      <th>4</th>\n",
       "      <td>235891</td>\n",
       "      <td>A7</td>\n",
       "      <td>2020-03-02 07:15:00</td>\n",
       "      <td>NaN</td>\n",
       "    </tr>\n",
       "  </tbody>\n",
       "</table>\n",
       "</div>"
      ],
      "text/plain": [
       "  serial# model        CompleteDate Time Description\n",
       "0  235854   A5L 2020-03-02 06:19:00              NaN\n",
       "1  235905   A9L 2020-03-02 06:33:00              NaN\n",
       "2  235881   A5L 2020-03-02 06:47:00              NaN\n",
       "3  235873   A5L 2020-03-02 06:56:00              NaN\n",
       "4  235891    A7 2020-03-02 07:15:00              NaN"
      ]
     },
     "execution_count": 14,
     "metadata": {},
     "output_type": "execute_result"
    }
   ],
   "source": [
    "df_clean.head()"
   ]
  },
  {
   "cell_type": "markdown",
   "id": "d2c68af1-f74f-4e04-9a64-5dc495b46eb2",
   "metadata": {
    "tags": []
   },
   "source": [
    "## Issue: Time Description has ~ 12k missing values, and some are labeled \"No Data\"\n",
    "\n",
    "## Resolution: Rows w/ missing values and/or valued at \"No Data\" will be removed from the dataset"
   ]
  },
  {
   "cell_type": "code",
   "execution_count": 15,
   "id": "6b2f979b-7a5f-49be-829f-77205a8048e7",
   "metadata": {},
   "outputs": [],
   "source": [
    "df_clean.dropna(inplace=True)"
   ]
  },
  {
   "cell_type": "code",
   "execution_count": 16,
   "id": "eedb01c8-102a-46ce-aad6-061f933446a6",
   "metadata": {},
   "outputs": [],
   "source": [
    "df_clean = df_clean[df_clean['Time Description'] != 'No Data']"
   ]
  },
  {
   "cell_type": "markdown",
   "id": "543d2090-8804-4dd2-a316-c4b7ddf95b3b",
   "metadata": {
    "tags": []
   },
   "source": [
    "### Test: Making sure all null values and \"No Data\" values are removed from the dataframe"
   ]
  },
  {
   "cell_type": "code",
   "execution_count": 17,
   "id": "736e210b-df01-4619-9068-39ec9dc32fb3",
   "metadata": {},
   "outputs": [
    {
     "data": {
      "text/plain": [
       "6AM-Noon        16199\n",
       "6PM-Midnight    15107\n",
       "Noon-6PM        15094\n",
       "Midnight-6AM    13594\n",
       "Name: Time Description, dtype: int64"
      ]
     },
     "execution_count": 17,
     "metadata": {},
     "output_type": "execute_result"
    }
   ],
   "source": [
    "df_clean['Time Description'].value_counts()"
   ]
  },
  {
   "cell_type": "code",
   "execution_count": 18,
   "id": "81887f21-93e4-416e-897e-9545c7464605",
   "metadata": {},
   "outputs": [
    {
     "name": "stdout",
     "output_type": "stream",
     "text": [
      "<class 'pandas.core.frame.DataFrame'>\n",
      "Int64Index: 59994 entries, 71 to 80242\n",
      "Data columns (total 4 columns):\n",
      " #   Column            Non-Null Count  Dtype         \n",
      "---  ------            --------------  -----         \n",
      " 0   serial#           59994 non-null  object        \n",
      " 1   model             59994 non-null  object        \n",
      " 2   CompleteDate      59994 non-null  datetime64[ns]\n",
      " 3   Time Description  59994 non-null  object        \n",
      "dtypes: datetime64[ns](1), object(3)\n",
      "memory usage: 2.3+ MB\n"
     ]
    }
   ],
   "source": [
    "df_clean.info()"
   ]
  },
  {
   "cell_type": "markdown",
   "id": "8bc4a2f2-7c91-49f9-9dc0-86c14e02b391",
   "metadata": {},
   "source": [
    "### Issue: Serial# is of the object datatype. It might need to be converted to integer.\n",
    "### Resolution: Converting serial# to integer datatype"
   ]
  },
  {
   "cell_type": "code",
   "execution_count": 19,
   "id": "58255a7d-0e07-40a2-a307-d28452d4d7b5",
   "metadata": {},
   "outputs": [],
   "source": [
    "df_clean['serial#'] = pd.to_numeric(df_clean['serial#'])"
   ]
  },
  {
   "cell_type": "markdown",
   "id": "f61b61bc-c83a-4e32-8034-732c718a10d0",
   "metadata": {},
   "source": [
    "### Test: Make sure the datatype is now of the integer type"
   ]
  },
  {
   "cell_type": "code",
   "execution_count": 20,
   "id": "f6f3a464-254f-4688-8f0a-9f29a28c6078",
   "metadata": {},
   "outputs": [
    {
     "name": "stdout",
     "output_type": "stream",
     "text": [
      "<class 'pandas.core.frame.DataFrame'>\n",
      "Int64Index: 59994 entries, 71 to 80242\n",
      "Data columns (total 4 columns):\n",
      " #   Column            Non-Null Count  Dtype         \n",
      "---  ------            --------------  -----         \n",
      " 0   serial#           59994 non-null  int64         \n",
      " 1   model             59994 non-null  object        \n",
      " 2   CompleteDate      59994 non-null  datetime64[ns]\n",
      " 3   Time Description  59994 non-null  object        \n",
      "dtypes: datetime64[ns](1), int64(1), object(2)\n",
      "memory usage: 2.3+ MB\n"
     ]
    }
   ],
   "source": [
    "df_clean.info()"
   ]
  },
  {
   "cell_type": "code",
   "execution_count": null,
   "id": "8d2a28ac-614e-44f2-9f54-5b95a53879f4",
   "metadata": {},
   "outputs": [],
   "source": []
  },
  {
   "cell_type": "markdown",
   "id": "cb9bcebc-088e-4285-b956-a18db514e473",
   "metadata": {
    "tags": []
   },
   "source": [
    "# Assessing Spray Info Data\n",
    "This dataframe will include data from the spray automation machine for each spa "
   ]
  },
  {
   "cell_type": "markdown",
   "id": "5ef65039-c0e1-4126-93de-3ca57a889a24",
   "metadata": {},
   "source": [
    "## Issues Identified:\n",
    "- Mix Module column should be removed. It has many null values\n",
    "- columns should be renamed to avoid ambiguity\n",
    "- there are many duplicate serial#"
   ]
  },
  {
   "cell_type": "code",
   "execution_count": 21,
   "id": "cb43268a-73af-4904-a83f-e704e4a26c91",
   "metadata": {},
   "outputs": [
    {
     "data": {
      "text/html": [
       "<div>\n",
       "<style scoped>\n",
       "    .dataframe tbody tr th:only-of-type {\n",
       "        vertical-align: middle;\n",
       "    }\n",
       "\n",
       "    .dataframe tbody tr th {\n",
       "        vertical-align: top;\n",
       "    }\n",
       "\n",
       "    .dataframe thead th {\n",
       "        text-align: right;\n",
       "    }\n",
       "</style>\n",
       "<table border=\"1\" class=\"dataframe\">\n",
       "  <thead>\n",
       "    <tr style=\"text-align: right;\">\n",
       "      <th></th>\n",
       "      <th>serial#</th>\n",
       "      <th>start_time</th>\n",
       "      <th>end_time</th>\n",
       "      <th>mix_module</th>\n",
       "      <th>operator</th>\n",
       "      <th>iso_press_avg</th>\n",
       "      <th>poly_press_avg</th>\n",
       "      <th>t_stamp</th>\n",
       "      <th>booth</th>\n",
       "      <th>iso_lbs_run_usage</th>\n",
       "      <th>poly_lbs_run_usage</th>\n",
       "      <th>Time</th>\n",
       "    </tr>\n",
       "  </thead>\n",
       "  <tbody>\n",
       "    <tr>\n",
       "      <th>0</th>\n",
       "      <td>13456</td>\n",
       "      <td>2020-03-20 15:22:31.517</td>\n",
       "      <td>2020-03-20 15:37:35.463</td>\n",
       "      <td>88</td>\n",
       "      <td>admin</td>\n",
       "      <td>0.0</td>\n",
       "      <td>NaN</td>\n",
       "      <td>2020-03-20 15:37:36.070</td>\n",
       "      <td>3.0</td>\n",
       "      <td>1251.0</td>\n",
       "      <td>1500.0</td>\n",
       "      <td>0.651105</td>\n",
       "    </tr>\n",
       "    <tr>\n",
       "      <th>1</th>\n",
       "      <td>235970</td>\n",
       "      <td>2020-03-30 12:23:23.237</td>\n",
       "      <td>2020-03-30 12:59:49.633</td>\n",
       "      <td>88</td>\n",
       "      <td>admin</td>\n",
       "      <td>0.0</td>\n",
       "      <td>NaN</td>\n",
       "      <td>2020-03-30 12:59:50.300</td>\n",
       "      <td>3.0</td>\n",
       "      <td>1251.0</td>\n",
       "      <td>1500.0</td>\n",
       "      <td>0.541547</td>\n",
       "    </tr>\n",
       "    <tr>\n",
       "      <th>2</th>\n",
       "      <td>236746</td>\n",
       "      <td>2020-03-30 15:22:19.347</td>\n",
       "      <td>2020-03-30 16:36:38.323</td>\n",
       "      <td>88</td>\n",
       "      <td>admin</td>\n",
       "      <td>0.0</td>\n",
       "      <td>NaN</td>\n",
       "      <td>2020-03-30 16:36:39.033</td>\n",
       "      <td>3.0</td>\n",
       "      <td>1251.0</td>\n",
       "      <td>1500.0</td>\n",
       "      <td>0.692110</td>\n",
       "    </tr>\n",
       "    <tr>\n",
       "      <th>3</th>\n",
       "      <td>236730</td>\n",
       "      <td>2020-03-31 06:08:12.733</td>\n",
       "      <td>2020-03-30 19:14:41.770</td>\n",
       "      <td>88</td>\n",
       "      <td>admin</td>\n",
       "      <td>0.0</td>\n",
       "      <td>NaN</td>\n",
       "      <td>2020-03-31 06:37:54.207</td>\n",
       "      <td>3.0</td>\n",
       "      <td>1251.0</td>\n",
       "      <td>1500.0</td>\n",
       "      <td>0.801872</td>\n",
       "    </tr>\n",
       "    <tr>\n",
       "      <th>4</th>\n",
       "      <td>236771</td>\n",
       "      <td>2020-03-31 09:53:41.243</td>\n",
       "      <td>2020-03-31 06:52:04.443</td>\n",
       "      <td>88</td>\n",
       "      <td>admin</td>\n",
       "      <td>0.0</td>\n",
       "      <td>NaN</td>\n",
       "      <td>2020-03-31 09:56:50.683</td>\n",
       "      <td>3.0</td>\n",
       "      <td>1251.0</td>\n",
       "      <td>1500.0</td>\n",
       "      <td>0.286163</td>\n",
       "    </tr>\n",
       "  </tbody>\n",
       "</table>\n",
       "</div>"
      ],
      "text/plain": [
       "  serial#              start_time                end_time mix_module operator  \\\n",
       "0   13456 2020-03-20 15:22:31.517 2020-03-20 15:37:35.463         88    admin   \n",
       "1  235970 2020-03-30 12:23:23.237 2020-03-30 12:59:49.633         88    admin   \n",
       "2  236746 2020-03-30 15:22:19.347 2020-03-30 16:36:38.323         88    admin   \n",
       "3  236730 2020-03-31 06:08:12.733 2020-03-30 19:14:41.770         88    admin   \n",
       "4  236771 2020-03-31 09:53:41.243 2020-03-31 06:52:04.443         88    admin   \n",
       "\n",
       "   iso_press_avg  poly_press_avg                 t_stamp  booth  \\\n",
       "0            0.0             NaN 2020-03-20 15:37:36.070    3.0   \n",
       "1            0.0             NaN 2020-03-30 12:59:50.300    3.0   \n",
       "2            0.0             NaN 2020-03-30 16:36:39.033    3.0   \n",
       "3            0.0             NaN 2020-03-31 06:37:54.207    3.0   \n",
       "4            0.0             NaN 2020-03-31 09:56:50.683    3.0   \n",
       "\n",
       "   iso_lbs_run_usage  poly_lbs_run_usage      Time  \n",
       "0             1251.0              1500.0  0.651105  \n",
       "1             1251.0              1500.0  0.541547  \n",
       "2             1251.0              1500.0  0.692110  \n",
       "3             1251.0              1500.0  0.801872  \n",
       "4             1251.0              1500.0  0.286163  "
      ]
     },
     "execution_count": 21,
     "metadata": {},
     "output_type": "execute_result"
    }
   ],
   "source": [
    "df1 = pd.read_excel('Blister Returns.xlsx', sheet_name='Spray Info')\n",
    "df1.head()"
   ]
  },
  {
   "cell_type": "code",
   "execution_count": 22,
   "id": "80131084-82fd-4bcc-a956-6205cf2d2cf9",
   "metadata": {},
   "outputs": [
    {
     "data": {
      "text/plain": [
       "(63843, 12)"
      ]
     },
     "execution_count": 22,
     "metadata": {},
     "output_type": "execute_result"
    }
   ],
   "source": [
    "df1.shape"
   ]
  },
  {
   "cell_type": "code",
   "execution_count": 23,
   "id": "b409d5fe-b5c7-4594-b98d-7eb1d69995b5",
   "metadata": {},
   "outputs": [
    {
     "name": "stdout",
     "output_type": "stream",
     "text": [
      "<class 'pandas.core.frame.DataFrame'>\n",
      "RangeIndex: 63843 entries, 0 to 63842\n",
      "Data columns (total 12 columns):\n",
      " #   Column              Non-Null Count  Dtype         \n",
      "---  ------              --------------  -----         \n",
      " 0   serial#             63808 non-null  object        \n",
      " 1   start_time          63752 non-null  datetime64[ns]\n",
      " 2   end_time            63759 non-null  datetime64[ns]\n",
      " 3   mix_module          24975 non-null  object        \n",
      " 4   operator            63752 non-null  object        \n",
      " 5   iso_press_avg       63648 non-null  float64       \n",
      " 6   poly_press_avg      63478 non-null  float64       \n",
      " 7   t_stamp             63757 non-null  datetime64[ns]\n",
      " 8   booth               63757 non-null  float64       \n",
      " 9   iso_lbs_run_usage   63051 non-null  float64       \n",
      " 10  poly_lbs_run_usage  63051 non-null  float64       \n",
      " 11  Time                63843 non-null  float64       \n",
      "dtypes: datetime64[ns](3), float64(6), object(3)\n",
      "memory usage: 5.8+ MB\n"
     ]
    }
   ],
   "source": [
    "df1.info()"
   ]
  },
  {
   "cell_type": "code",
   "execution_count": 24,
   "id": "bfd61520-4024-49a4-b4a4-d710e0334d41",
   "metadata": {},
   "outputs": [
    {
     "data": {
      "text/html": [
       "<div>\n",
       "<style scoped>\n",
       "    .dataframe tbody tr th:only-of-type {\n",
       "        vertical-align: middle;\n",
       "    }\n",
       "\n",
       "    .dataframe tbody tr th {\n",
       "        vertical-align: top;\n",
       "    }\n",
       "\n",
       "    .dataframe thead th {\n",
       "        text-align: right;\n",
       "    }\n",
       "</style>\n",
       "<table border=\"1\" class=\"dataframe\">\n",
       "  <thead>\n",
       "    <tr style=\"text-align: right;\">\n",
       "      <th></th>\n",
       "      <th>serial#</th>\n",
       "      <th>start_time</th>\n",
       "      <th>end_time</th>\n",
       "      <th>mix_module</th>\n",
       "      <th>operator</th>\n",
       "      <th>iso_press_avg</th>\n",
       "      <th>poly_press_avg</th>\n",
       "      <th>t_stamp</th>\n",
       "      <th>booth</th>\n",
       "      <th>iso_lbs_run_usage</th>\n",
       "      <th>poly_lbs_run_usage</th>\n",
       "      <th>Time</th>\n",
       "    </tr>\n",
       "  </thead>\n",
       "  <tbody>\n",
       "    <tr>\n",
       "      <th>8</th>\n",
       "      <td>235970</td>\n",
       "      <td>2020-04-01 05:28:26.620</td>\n",
       "      <td>2020-04-01 10:24:03.637</td>\n",
       "      <td>88</td>\n",
       "      <td>admin</td>\n",
       "      <td>0.000000</td>\n",
       "      <td>NaN</td>\n",
       "      <td>2020-04-01 10:36:14.707</td>\n",
       "      <td>2.0</td>\n",
       "      <td>1251.0</td>\n",
       "      <td>1500.0</td>\n",
       "      <td>0.433375</td>\n",
       "    </tr>\n",
       "    <tr>\n",
       "      <th>25</th>\n",
       "      <td>NaN</td>\n",
       "      <td>2020-05-13 13:17:40.847</td>\n",
       "      <td>2020-05-12 09:29:37.110</td>\n",
       "      <td>NaN</td>\n",
       "      <td>admin</td>\n",
       "      <td>0.000000</td>\n",
       "      <td>NaN</td>\n",
       "      <td>2020-05-13 15:57:40.003</td>\n",
       "      <td>3.0</td>\n",
       "      <td>1251.0</td>\n",
       "      <td>1500.0</td>\n",
       "      <td>0.395568</td>\n",
       "    </tr>\n",
       "    <tr>\n",
       "      <th>32</th>\n",
       "      <td>238227</td>\n",
       "      <td>2020-05-22 08:33:51.213</td>\n",
       "      <td>2020-05-22 08:49:44.667</td>\n",
       "      <td>NaN</td>\n",
       "      <td>admin</td>\n",
       "      <td>0.000000</td>\n",
       "      <td>NaN</td>\n",
       "      <td>2020-05-22 08:51:49.307</td>\n",
       "      <td>3.0</td>\n",
       "      <td>1251.0</td>\n",
       "      <td>1500.0</td>\n",
       "      <td>0.367878</td>\n",
       "    </tr>\n",
       "    <tr>\n",
       "      <th>34</th>\n",
       "      <td>NaN</td>\n",
       "      <td>2020-05-26 08:00:02.053</td>\n",
       "      <td>2020-05-21 06:35:17.310</td>\n",
       "      <td>NaN</td>\n",
       "      <td>admin</td>\n",
       "      <td>0.000000</td>\n",
       "      <td>NaN</td>\n",
       "      <td>2020-05-26 08:34:05.563</td>\n",
       "      <td>2.0</td>\n",
       "      <td>1251.0</td>\n",
       "      <td>1500.0</td>\n",
       "      <td>0.274506</td>\n",
       "    </tr>\n",
       "    <tr>\n",
       "      <th>36</th>\n",
       "      <td>NaN</td>\n",
       "      <td>2020-06-01 16:52:30.607</td>\n",
       "      <td>2020-05-29 12:59:14.857</td>\n",
       "      <td>30</td>\n",
       "      <td>admin</td>\n",
       "      <td>0.000000</td>\n",
       "      <td>NaN</td>\n",
       "      <td>2020-06-01 16:54:48.407</td>\n",
       "      <td>3.0</td>\n",
       "      <td>1251.0</td>\n",
       "      <td>1500.0</td>\n",
       "      <td>0.541144</td>\n",
       "    </tr>\n",
       "    <tr>\n",
       "      <th>...</th>\n",
       "      <td>...</td>\n",
       "      <td>...</td>\n",
       "      <td>...</td>\n",
       "      <td>...</td>\n",
       "      <td>...</td>\n",
       "      <td>...</td>\n",
       "      <td>...</td>\n",
       "      <td>...</td>\n",
       "      <td>...</td>\n",
       "      <td>...</td>\n",
       "      <td>...</td>\n",
       "      <td>...</td>\n",
       "    </tr>\n",
       "    <tr>\n",
       "      <th>63731</th>\n",
       "      <td>308243</td>\n",
       "      <td>2022-11-21 16:19:09.850</td>\n",
       "      <td>2022-11-21 16:35:26.347</td>\n",
       "      <td>~$$$$$$$$$$$$$$$$$$$A8L/307228</td>\n",
       "      <td>operator</td>\n",
       "      <td>1631.315430</td>\n",
       "      <td>1710.142822</td>\n",
       "      <td>2022-11-21 16:35:27.707</td>\n",
       "      <td>4.0</td>\n",
       "      <td>45491.2</td>\n",
       "      <td>52489.8</td>\n",
       "      <td>0.691277</td>\n",
       "    </tr>\n",
       "    <tr>\n",
       "      <th>63732</th>\n",
       "      <td>308237</td>\n",
       "      <td>2022-11-21 19:26:54.757</td>\n",
       "      <td>2022-11-21 19:40:46.457</td>\n",
       "      <td>~$$$$$$$$$$$$$$$$$$$A8L/307228</td>\n",
       "      <td>operator</td>\n",
       "      <td>1635.633667</td>\n",
       "      <td>1702.666992</td>\n",
       "      <td>2022-11-21 19:40:47.757</td>\n",
       "      <td>4.0</td>\n",
       "      <td>46563.7</td>\n",
       "      <td>53727.4</td>\n",
       "      <td>0.819982</td>\n",
       "    </tr>\n",
       "    <tr>\n",
       "      <th>63739</th>\n",
       "      <td>308044</td>\n",
       "      <td>2022-11-21 19:54:45.523</td>\n",
       "      <td>2022-11-21 19:41:35.850</td>\n",
       "      <td>NaN</td>\n",
       "      <td>operator</td>\n",
       "      <td>1947.791870</td>\n",
       "      <td>1656.806641</td>\n",
       "      <td>2022-11-21 20:18:57.897</td>\n",
       "      <td>2.0</td>\n",
       "      <td>237477.0</td>\n",
       "      <td>274012.0</td>\n",
       "      <td>0.820554</td>\n",
       "    </tr>\n",
       "    <tr>\n",
       "      <th>63809</th>\n",
       "      <td>308334</td>\n",
       "      <td>2022-11-22 07:35:12.677</td>\n",
       "      <td>2022-11-22 07:52:25.417</td>\n",
       "      <td>NaN</td>\n",
       "      <td>operator</td>\n",
       "      <td>2033.768311</td>\n",
       "      <td>1728.824951</td>\n",
       "      <td>2022-11-22 07:52:25.473</td>\n",
       "      <td>2.0</td>\n",
       "      <td>263594.0</td>\n",
       "      <td>304146.0</td>\n",
       "      <td>0.328072</td>\n",
       "    </tr>\n",
       "    <tr>\n",
       "      <th>63839</th>\n",
       "      <td>123456</td>\n",
       "      <td>2022-11-22 12:08:11.553</td>\n",
       "      <td>2022-11-22 12:33:37.833</td>\n",
       "      <td>NaN</td>\n",
       "      <td>operator</td>\n",
       "      <td>1858.944336</td>\n",
       "      <td>1651.259033</td>\n",
       "      <td>2022-11-22 12:33:38.883</td>\n",
       "      <td>3.0</td>\n",
       "      <td>77094.7</td>\n",
       "      <td>88955.4</td>\n",
       "      <td>0.523355</td>\n",
       "    </tr>\n",
       "  </tbody>\n",
       "</table>\n",
       "<p>3106 rows × 12 columns</p>\n",
       "</div>"
      ],
      "text/plain": [
       "      serial#              start_time                end_time  \\\n",
       "8      235970 2020-04-01 05:28:26.620 2020-04-01 10:24:03.637   \n",
       "25        NaN 2020-05-13 13:17:40.847 2020-05-12 09:29:37.110   \n",
       "32     238227 2020-05-22 08:33:51.213 2020-05-22 08:49:44.667   \n",
       "34        NaN 2020-05-26 08:00:02.053 2020-05-21 06:35:17.310   \n",
       "36        NaN 2020-06-01 16:52:30.607 2020-05-29 12:59:14.857   \n",
       "...       ...                     ...                     ...   \n",
       "63731  308243 2022-11-21 16:19:09.850 2022-11-21 16:35:26.347   \n",
       "63732  308237 2022-11-21 19:26:54.757 2022-11-21 19:40:46.457   \n",
       "63739  308044 2022-11-21 19:54:45.523 2022-11-21 19:41:35.850   \n",
       "63809  308334 2022-11-22 07:35:12.677 2022-11-22 07:52:25.417   \n",
       "63839  123456 2022-11-22 12:08:11.553 2022-11-22 12:33:37.833   \n",
       "\n",
       "                           mix_module  operator  iso_press_avg  \\\n",
       "8                                  88     admin       0.000000   \n",
       "25                                NaN     admin       0.000000   \n",
       "32                                NaN     admin       0.000000   \n",
       "34                                NaN     admin       0.000000   \n",
       "36                                 30     admin       0.000000   \n",
       "...                               ...       ...            ...   \n",
       "63731  ~$$$$$$$$$$$$$$$$$$$A8L/307228  operator    1631.315430   \n",
       "63732  ~$$$$$$$$$$$$$$$$$$$A8L/307228  operator    1635.633667   \n",
       "63739                             NaN  operator    1947.791870   \n",
       "63809                             NaN  operator    2033.768311   \n",
       "63839                             NaN  operator    1858.944336   \n",
       "\n",
       "       poly_press_avg                 t_stamp  booth  iso_lbs_run_usage  \\\n",
       "8                 NaN 2020-04-01 10:36:14.707    2.0             1251.0   \n",
       "25                NaN 2020-05-13 15:57:40.003    3.0             1251.0   \n",
       "32                NaN 2020-05-22 08:51:49.307    3.0             1251.0   \n",
       "34                NaN 2020-05-26 08:34:05.563    2.0             1251.0   \n",
       "36                NaN 2020-06-01 16:54:48.407    3.0             1251.0   \n",
       "...               ...                     ...    ...                ...   \n",
       "63731     1710.142822 2022-11-21 16:35:27.707    4.0            45491.2   \n",
       "63732     1702.666992 2022-11-21 19:40:47.757    4.0            46563.7   \n",
       "63739     1656.806641 2022-11-21 20:18:57.897    2.0           237477.0   \n",
       "63809     1728.824951 2022-11-22 07:52:25.473    2.0           263594.0   \n",
       "63839     1651.259033 2022-11-22 12:33:38.883    3.0            77094.7   \n",
       "\n",
       "       poly_lbs_run_usage      Time  \n",
       "8                  1500.0  0.433375  \n",
       "25                 1500.0  0.395568  \n",
       "32                 1500.0  0.367878  \n",
       "34                 1500.0  0.274506  \n",
       "36                 1500.0  0.541144  \n",
       "...                   ...       ...  \n",
       "63731             52489.8  0.691277  \n",
       "63732             53727.4  0.819982  \n",
       "63739            274012.0  0.820554  \n",
       "63809            304146.0  0.328072  \n",
       "63839             88955.4  0.523355  \n",
       "\n",
       "[3106 rows x 12 columns]"
      ]
     },
     "execution_count": 24,
     "metadata": {},
     "output_type": "execute_result"
    }
   ],
   "source": [
    "duplicate_serial = df1[df1.duplicated('serial#')]\n",
    "duplicate_serial"
   ]
  },
  {
   "cell_type": "code",
   "execution_count": 25,
   "id": "13b6eb66-4213-4a47-adca-f1c95f003d4d",
   "metadata": {},
   "outputs": [
    {
     "data": {
      "text/html": [
       "<div>\n",
       "<style scoped>\n",
       "    .dataframe tbody tr th:only-of-type {\n",
       "        vertical-align: middle;\n",
       "    }\n",
       "\n",
       "    .dataframe tbody tr th {\n",
       "        vertical-align: top;\n",
       "    }\n",
       "\n",
       "    .dataframe thead th {\n",
       "        text-align: right;\n",
       "    }\n",
       "</style>\n",
       "<table border=\"1\" class=\"dataframe\">\n",
       "  <thead>\n",
       "    <tr style=\"text-align: right;\">\n",
       "      <th></th>\n",
       "      <th>serial#</th>\n",
       "      <th>start_time</th>\n",
       "      <th>end_time</th>\n",
       "      <th>mix_module</th>\n",
       "      <th>operator</th>\n",
       "      <th>iso_press_avg</th>\n",
       "      <th>poly_press_avg</th>\n",
       "      <th>t_stamp</th>\n",
       "      <th>booth</th>\n",
       "      <th>iso_lbs_run_usage</th>\n",
       "      <th>poly_lbs_run_usage</th>\n",
       "      <th>Time</th>\n",
       "    </tr>\n",
       "  </thead>\n",
       "  <tbody>\n",
       "    <tr>\n",
       "      <th>0</th>\n",
       "      <td>13456</td>\n",
       "      <td>2020-03-20 15:22:31.517</td>\n",
       "      <td>2020-03-20 15:37:35.463</td>\n",
       "      <td>88</td>\n",
       "      <td>admin</td>\n",
       "      <td>0.0</td>\n",
       "      <td>NaN</td>\n",
       "      <td>2020-03-20 15:37:36.070</td>\n",
       "      <td>3.0</td>\n",
       "      <td>1251.0</td>\n",
       "      <td>1500.0</td>\n",
       "      <td>0.651105</td>\n",
       "    </tr>\n",
       "  </tbody>\n",
       "</table>\n",
       "</div>"
      ],
      "text/plain": [
       "  serial#              start_time                end_time mix_module operator  \\\n",
       "0   13456 2020-03-20 15:22:31.517 2020-03-20 15:37:35.463         88    admin   \n",
       "\n",
       "   iso_press_avg  poly_press_avg                 t_stamp  booth  \\\n",
       "0            0.0             NaN 2020-03-20 15:37:36.070    3.0   \n",
       "\n",
       "   iso_lbs_run_usage  poly_lbs_run_usage      Time  \n",
       "0             1251.0              1500.0  0.651105  "
      ]
     },
     "execution_count": 25,
     "metadata": {},
     "output_type": "execute_result"
    }
   ],
   "source": [
    "df1.head(1)"
   ]
  },
  {
   "cell_type": "code",
   "execution_count": 26,
   "id": "5000deb2-bd4b-4031-bbfb-c7986660f549",
   "metadata": {},
   "outputs": [
    {
     "data": {
      "text/plain": [
       "0.000000       1650\n",
       "1358.332642       5\n",
       "1796.693359       4\n",
       "1725.686035       4\n",
       "1764.366455       4\n",
       "               ... \n",
       "2656.639404       1\n",
       "2122.339111       1\n",
       "1974.365112       1\n",
       "1859.327759       1\n",
       "2250.809082       1\n",
       "Name: iso_press_avg, Length: 59557, dtype: int64"
      ]
     },
     "execution_count": 26,
     "metadata": {},
     "output_type": "execute_result"
    }
   ],
   "source": [
    "df1['iso_press_avg'].value_counts()"
   ]
  },
  {
   "cell_type": "code",
   "execution_count": 27,
   "id": "bd5dff03-ecee-4eb5-a5be-d5f2b6c3f9b7",
   "metadata": {},
   "outputs": [
    {
     "data": {
      "text/plain": [
       "0.000000       1506\n",
       "1307.376221       5\n",
       "1380.175659       4\n",
       "1679.962891       4\n",
       "1578.235718       4\n",
       "               ... \n",
       "1517.786377       1\n",
       "1564.792358       1\n",
       "1468.007812       1\n",
       "1527.161621       1\n",
       "2007.501343       1\n",
       "Name: poly_press_avg, Length: 59365, dtype: int64"
      ]
     },
     "execution_count": 27,
     "metadata": {},
     "output_type": "execute_result"
    }
   ],
   "source": [
    "df1['poly_press_avg'].value_counts()"
   ]
  },
  {
   "cell_type": "code",
   "execution_count": null,
   "id": "425f8b52-2c96-47f8-befb-1d0755c0e5e9",
   "metadata": {},
   "outputs": [],
   "source": []
  },
  {
   "cell_type": "code",
   "execution_count": 28,
   "id": "cd0f34e0-0041-4f17-8c2b-05257f77fb1a",
   "metadata": {},
   "outputs": [
    {
     "data": {
      "text/plain": [
       "1251.000      110\n",
       "37138.400      79\n",
       "501.248        70\n",
       "26324.100      66\n",
       "34743.100      50\n",
       "             ... \n",
       "168.564         1\n",
       "163.250         1\n",
       "133.838         1\n",
       "205.723         1\n",
       "211852.000      1\n",
       "Name: iso_lbs_run_usage, Length: 61243, dtype: int64"
      ]
     },
     "execution_count": 28,
     "metadata": {},
     "output_type": "execute_result"
    }
   ],
   "source": [
    "df1['iso_lbs_run_usage'].value_counts()"
   ]
  },
  {
   "cell_type": "markdown",
   "id": "4d00a6dc-2eaa-4d88-948b-2841fad4c2c7",
   "metadata": {},
   "source": [
    "# Cleaning Spray Info Data"
   ]
  },
  {
   "cell_type": "code",
   "execution_count": 29,
   "id": "4e359fb9-5c48-473b-98ed-961f815ceac8",
   "metadata": {},
   "outputs": [],
   "source": [
    "df1_clean = df1.copy()"
   ]
  },
  {
   "cell_type": "markdown",
   "id": "77b99259-09d0-4394-ae4c-87a378555be3",
   "metadata": {
    "tags": []
   },
   "source": [
    "### Issue: Mix Module column should be removed. It has many null values\n",
    "### Resolution: Drop mix_module column"
   ]
  },
  {
   "cell_type": "code",
   "execution_count": 30,
   "id": "cfc3e405-8b46-4aaa-aa6c-882ff76fab8d",
   "metadata": {},
   "outputs": [],
   "source": [
    "df1_clean.drop('mix_module', axis=1, inplace = True)"
   ]
  },
  {
   "cell_type": "markdown",
   "id": "7b8c1ae8-10ea-4548-9491-07f0f65e2c20",
   "metadata": {},
   "source": [
    "### Test: Make sure column has been removed"
   ]
  },
  {
   "cell_type": "code",
   "execution_count": 31,
   "id": "709f2824-6ca3-43ab-b3ed-85be8ae05882",
   "metadata": {},
   "outputs": [
    {
     "name": "stdout",
     "output_type": "stream",
     "text": [
      "<class 'pandas.core.frame.DataFrame'>\n",
      "RangeIndex: 63843 entries, 0 to 63842\n",
      "Data columns (total 11 columns):\n",
      " #   Column              Non-Null Count  Dtype         \n",
      "---  ------              --------------  -----         \n",
      " 0   serial#             63808 non-null  object        \n",
      " 1   start_time          63752 non-null  datetime64[ns]\n",
      " 2   end_time            63759 non-null  datetime64[ns]\n",
      " 3   operator            63752 non-null  object        \n",
      " 4   iso_press_avg       63648 non-null  float64       \n",
      " 5   poly_press_avg      63478 non-null  float64       \n",
      " 6   t_stamp             63757 non-null  datetime64[ns]\n",
      " 7   booth               63757 non-null  float64       \n",
      " 8   iso_lbs_run_usage   63051 non-null  float64       \n",
      " 9   poly_lbs_run_usage  63051 non-null  float64       \n",
      " 10  Time                63843 non-null  float64       \n",
      "dtypes: datetime64[ns](3), float64(6), object(2)\n",
      "memory usage: 5.4+ MB\n"
     ]
    }
   ],
   "source": [
    "df1_clean.info()"
   ]
  },
  {
   "cell_type": "markdown",
   "id": "4f64eb15-6cf8-48e1-961c-407f54962782",
   "metadata": {
    "tags": []
   },
   "source": [
    "### Issue: there are many duplicate serial#\n",
    "### Resolution: Drop duplicate serial# but keep most recent"
   ]
  },
  {
   "cell_type": "code",
   "execution_count": null,
   "id": "9a639fa1-df5d-402d-9103-f0b65bf3efd3",
   "metadata": {},
   "outputs": [],
   "source": []
  },
  {
   "cell_type": "code",
   "execution_count": 32,
   "id": "6632c3fb-6cbf-45b8-8f53-74177cd35df4",
   "metadata": {},
   "outputs": [],
   "source": [
    "df1_clean = df1_clean.sort_values('end_time').drop_duplicates('serial#', keep='last')"
   ]
  },
  {
   "cell_type": "markdown",
   "id": "5c4f75c3-4a68-4069-9bc2-fd2fe81e31b7",
   "metadata": {
    "tags": []
   },
   "source": [
    "### Test: Make sure duplicates are gone from dataframe"
   ]
  },
  {
   "cell_type": "code",
   "execution_count": 33,
   "id": "f2de6103-9fde-4530-844f-90f28abf0887",
   "metadata": {},
   "outputs": [
    {
     "data": {
      "text/html": [
       "<div>\n",
       "<style scoped>\n",
       "    .dataframe tbody tr th:only-of-type {\n",
       "        vertical-align: middle;\n",
       "    }\n",
       "\n",
       "    .dataframe tbody tr th {\n",
       "        vertical-align: top;\n",
       "    }\n",
       "\n",
       "    .dataframe thead th {\n",
       "        text-align: right;\n",
       "    }\n",
       "</style>\n",
       "<table border=\"1\" class=\"dataframe\">\n",
       "  <thead>\n",
       "    <tr style=\"text-align: right;\">\n",
       "      <th></th>\n",
       "      <th>serial#</th>\n",
       "      <th>start_time</th>\n",
       "      <th>end_time</th>\n",
       "      <th>operator</th>\n",
       "      <th>iso_press_avg</th>\n",
       "      <th>poly_press_avg</th>\n",
       "      <th>t_stamp</th>\n",
       "      <th>booth</th>\n",
       "      <th>iso_lbs_run_usage</th>\n",
       "      <th>poly_lbs_run_usage</th>\n",
       "      <th>Time</th>\n",
       "    </tr>\n",
       "  </thead>\n",
       "  <tbody>\n",
       "  </tbody>\n",
       "</table>\n",
       "</div>"
      ],
      "text/plain": [
       "Empty DataFrame\n",
       "Columns: [serial#, start_time, end_time, operator, iso_press_avg, poly_press_avg, t_stamp, booth, iso_lbs_run_usage, poly_lbs_run_usage, Time]\n",
       "Index: []"
      ]
     },
     "execution_count": 33,
     "metadata": {},
     "output_type": "execute_result"
    }
   ],
   "source": [
    "duplicate_serial = df1_clean[df1_clean.duplicated('serial#')]\n",
    "duplicate_serial"
   ]
  },
  {
   "cell_type": "markdown",
   "id": "58f479cb-0ba6-46f8-b395-a18c25456595",
   "metadata": {},
   "source": [
    "### Issue: \n",
    "### Resolution: "
   ]
  },
  {
   "cell_type": "markdown",
   "id": "e5565d5c-06e7-4948-81ee-0e2f1e5e2acc",
   "metadata": {
    "tags": []
   },
   "source": [
    "df1_clean.to_excel('Spray_Info_Clean.xlsx', index = False)"
   ]
  },
  {
   "cell_type": "markdown",
   "id": "a7268924-1b1a-44c8-8b18-07762077b44b",
   "metadata": {},
   "source": [
    "# Merging all spas and spray info into a single dataframe on serial#"
   ]
  },
  {
   "cell_type": "code",
   "execution_count": 34,
   "id": "8be5a5cc-a9b0-46ca-a803-bd07fccd1481",
   "metadata": {},
   "outputs": [],
   "source": [
    "df_merged = pd.merge(df_clean, df1_clean, on = 'serial#', how = 'left')"
   ]
  },
  {
   "cell_type": "code",
   "execution_count": 35,
   "id": "a055921d-88ef-4e1e-b6bc-0348cc83d16b",
   "metadata": {},
   "outputs": [
    {
     "data": {
      "text/html": [
       "<div>\n",
       "<style scoped>\n",
       "    .dataframe tbody tr th:only-of-type {\n",
       "        vertical-align: middle;\n",
       "    }\n",
       "\n",
       "    .dataframe tbody tr th {\n",
       "        vertical-align: top;\n",
       "    }\n",
       "\n",
       "    .dataframe thead th {\n",
       "        text-align: right;\n",
       "    }\n",
       "</style>\n",
       "<table border=\"1\" class=\"dataframe\">\n",
       "  <thead>\n",
       "    <tr style=\"text-align: right;\">\n",
       "      <th></th>\n",
       "      <th>serial#</th>\n",
       "      <th>model</th>\n",
       "      <th>CompleteDate</th>\n",
       "      <th>Time Description</th>\n",
       "      <th>start_time</th>\n",
       "      <th>end_time</th>\n",
       "      <th>operator</th>\n",
       "      <th>iso_press_avg</th>\n",
       "      <th>poly_press_avg</th>\n",
       "      <th>t_stamp</th>\n",
       "      <th>booth</th>\n",
       "      <th>iso_lbs_run_usage</th>\n",
       "      <th>poly_lbs_run_usage</th>\n",
       "      <th>Time</th>\n",
       "    </tr>\n",
       "  </thead>\n",
       "  <tbody>\n",
       "    <tr>\n",
       "      <th>0</th>\n",
       "      <td>235970</td>\n",
       "      <td>X7</td>\n",
       "      <td>2020-03-03 10:36:00</td>\n",
       "      <td>Noon-6PM</td>\n",
       "      <td>2020-04-01 05:28:26.620</td>\n",
       "      <td>2020-04-01 10:24:03.637</td>\n",
       "      <td>admin</td>\n",
       "      <td>0.0</td>\n",
       "      <td>NaN</td>\n",
       "      <td>2020-04-01 10:36:14.707</td>\n",
       "      <td>2.0</td>\n",
       "      <td>1251.0</td>\n",
       "      <td>1500.0</td>\n",
       "      <td>0.433375</td>\n",
       "    </tr>\n",
       "    <tr>\n",
       "      <th>1</th>\n",
       "      <td>236746</td>\n",
       "      <td>A7</td>\n",
       "      <td>2020-04-03 08:29:00</td>\n",
       "      <td>Noon-6PM</td>\n",
       "      <td>2020-03-30 15:22:19.347</td>\n",
       "      <td>2020-03-30 16:36:38.323</td>\n",
       "      <td>admin</td>\n",
       "      <td>0.0</td>\n",
       "      <td>NaN</td>\n",
       "      <td>2020-03-30 16:36:39.033</td>\n",
       "      <td>3.0</td>\n",
       "      <td>1251.0</td>\n",
       "      <td>1500.0</td>\n",
       "      <td>0.692110</td>\n",
       "    </tr>\n",
       "    <tr>\n",
       "      <th>2</th>\n",
       "      <td>236730</td>\n",
       "      <td>A7</td>\n",
       "      <td>2020-04-03 09:28:00</td>\n",
       "      <td>6PM-Midnight</td>\n",
       "      <td>2020-03-31 06:08:12.733</td>\n",
       "      <td>2020-03-30 19:14:41.770</td>\n",
       "      <td>admin</td>\n",
       "      <td>0.0</td>\n",
       "      <td>NaN</td>\n",
       "      <td>2020-03-31 06:37:54.207</td>\n",
       "      <td>3.0</td>\n",
       "      <td>1251.0</td>\n",
       "      <td>1500.0</td>\n",
       "      <td>0.801872</td>\n",
       "    </tr>\n",
       "    <tr>\n",
       "      <th>3</th>\n",
       "      <td>236771</td>\n",
       "      <td>X6L</td>\n",
       "      <td>2020-04-06 06:23:00</td>\n",
       "      <td>6AM-Noon</td>\n",
       "      <td>2020-03-31 09:53:41.243</td>\n",
       "      <td>2020-03-31 06:52:04.443</td>\n",
       "      <td>admin</td>\n",
       "      <td>0.0</td>\n",
       "      <td>NaN</td>\n",
       "      <td>2020-03-31 09:56:50.683</td>\n",
       "      <td>3.0</td>\n",
       "      <td>1251.0</td>\n",
       "      <td>1500.0</td>\n",
       "      <td>0.286163</td>\n",
       "    </tr>\n",
       "    <tr>\n",
       "      <th>4</th>\n",
       "      <td>236743</td>\n",
       "      <td>R5L</td>\n",
       "      <td>2020-04-06 07:37:00</td>\n",
       "      <td>6AM-Noon</td>\n",
       "      <td>2020-03-31 15:09:14.990</td>\n",
       "      <td>2020-03-31 10:08:29.040</td>\n",
       "      <td>admin</td>\n",
       "      <td>0.0</td>\n",
       "      <td>NaN</td>\n",
       "      <td>2020-03-31 15:24:20.290</td>\n",
       "      <td>3.0</td>\n",
       "      <td>1251.0</td>\n",
       "      <td>1500.0</td>\n",
       "      <td>0.422558</td>\n",
       "    </tr>\n",
       "  </tbody>\n",
       "</table>\n",
       "</div>"
      ],
      "text/plain": [
       "  serial# model        CompleteDate Time Description              start_time  \\\n",
       "0  235970    X7 2020-03-03 10:36:00         Noon-6PM 2020-04-01 05:28:26.620   \n",
       "1  236746    A7 2020-04-03 08:29:00         Noon-6PM 2020-03-30 15:22:19.347   \n",
       "2  236730    A7 2020-04-03 09:28:00     6PM-Midnight 2020-03-31 06:08:12.733   \n",
       "3  236771   X6L 2020-04-06 06:23:00         6AM-Noon 2020-03-31 09:53:41.243   \n",
       "4  236743   R5L 2020-04-06 07:37:00         6AM-Noon 2020-03-31 15:09:14.990   \n",
       "\n",
       "                 end_time operator  iso_press_avg  poly_press_avg  \\\n",
       "0 2020-04-01 10:24:03.637    admin            0.0             NaN   \n",
       "1 2020-03-30 16:36:38.323    admin            0.0             NaN   \n",
       "2 2020-03-30 19:14:41.770    admin            0.0             NaN   \n",
       "3 2020-03-31 06:52:04.443    admin            0.0             NaN   \n",
       "4 2020-03-31 10:08:29.040    admin            0.0             NaN   \n",
       "\n",
       "                  t_stamp  booth  iso_lbs_run_usage  poly_lbs_run_usage  \\\n",
       "0 2020-04-01 10:36:14.707    2.0             1251.0              1500.0   \n",
       "1 2020-03-30 16:36:39.033    3.0             1251.0              1500.0   \n",
       "2 2020-03-31 06:37:54.207    3.0             1251.0              1500.0   \n",
       "3 2020-03-31 09:56:50.683    3.0             1251.0              1500.0   \n",
       "4 2020-03-31 15:24:20.290    3.0             1251.0              1500.0   \n",
       "\n",
       "       Time  \n",
       "0  0.433375  \n",
       "1  0.692110  \n",
       "2  0.801872  \n",
       "3  0.286163  \n",
       "4  0.422558  "
      ]
     },
     "execution_count": 35,
     "metadata": {},
     "output_type": "execute_result"
    }
   ],
   "source": [
    "df_merged.head()"
   ]
  },
  {
   "cell_type": "code",
   "execution_count": 36,
   "id": "f3915384-e813-43c4-a811-74c9def3caff",
   "metadata": {},
   "outputs": [
    {
     "name": "stdout",
     "output_type": "stream",
     "text": [
      "<class 'pandas.core.frame.DataFrame'>\n",
      "Int64Index: 59994 entries, 0 to 59993\n",
      "Data columns (total 14 columns):\n",
      " #   Column              Non-Null Count  Dtype         \n",
      "---  ------              --------------  -----         \n",
      " 0   serial#             59994 non-null  object        \n",
      " 1   model               59994 non-null  object        \n",
      " 2   CompleteDate        59994 non-null  datetime64[ns]\n",
      " 3   Time Description    59994 non-null  object        \n",
      " 4   start_time          59987 non-null  datetime64[ns]\n",
      " 5   end_time            59994 non-null  datetime64[ns]\n",
      " 6   operator            59987 non-null  object        \n",
      " 7   iso_press_avg       59897 non-null  float64       \n",
      " 8   poly_press_avg      59765 non-null  float64       \n",
      " 9   t_stamp             59987 non-null  datetime64[ns]\n",
      " 10  booth               59987 non-null  float64       \n",
      " 11  iso_lbs_run_usage   59324 non-null  float64       \n",
      " 12  poly_lbs_run_usage  59324 non-null  float64       \n",
      " 13  Time                59994 non-null  float64       \n",
      "dtypes: datetime64[ns](4), float64(6), object(4)\n",
      "memory usage: 6.9+ MB\n"
     ]
    }
   ],
   "source": [
    "df_merged.info()"
   ]
  },
  {
   "cell_type": "code",
   "execution_count": 37,
   "id": "9250144c-800a-4d68-8159-f94c4baa1204",
   "metadata": {},
   "outputs": [],
   "source": [
    "df_merged = df_merged.dropna()"
   ]
  },
  {
   "cell_type": "code",
   "execution_count": 38,
   "id": "e3e2e6a2-b84d-47a8-b5f7-eaace9178f31",
   "metadata": {},
   "outputs": [
    {
     "name": "stdout",
     "output_type": "stream",
     "text": [
      "<class 'pandas.core.frame.DataFrame'>\n",
      "Int64Index: 59100 entries, 36 to 59993\n",
      "Data columns (total 14 columns):\n",
      " #   Column              Non-Null Count  Dtype         \n",
      "---  ------              --------------  -----         \n",
      " 0   serial#             59100 non-null  object        \n",
      " 1   model               59100 non-null  object        \n",
      " 2   CompleteDate        59100 non-null  datetime64[ns]\n",
      " 3   Time Description    59100 non-null  object        \n",
      " 4   start_time          59100 non-null  datetime64[ns]\n",
      " 5   end_time            59100 non-null  datetime64[ns]\n",
      " 6   operator            59100 non-null  object        \n",
      " 7   iso_press_avg       59100 non-null  float64       \n",
      " 8   poly_press_avg      59100 non-null  float64       \n",
      " 9   t_stamp             59100 non-null  datetime64[ns]\n",
      " 10  booth               59100 non-null  float64       \n",
      " 11  iso_lbs_run_usage   59100 non-null  float64       \n",
      " 12  poly_lbs_run_usage  59100 non-null  float64       \n",
      " 13  Time                59100 non-null  float64       \n",
      "dtypes: datetime64[ns](4), float64(6), object(4)\n",
      "memory usage: 6.8+ MB\n"
     ]
    }
   ],
   "source": [
    "df_merged.info()"
   ]
  },
  {
   "cell_type": "code",
   "execution_count": null,
   "id": "fc1b8a7e-1705-4e10-ba7b-e8eb86f6de35",
   "metadata": {},
   "outputs": [],
   "source": []
  },
  {
   "cell_type": "code",
   "execution_count": null,
   "id": "dd95bd12-9d7a-428f-b9c1-6c7f01578da9",
   "metadata": {},
   "outputs": [],
   "source": []
  },
  {
   "cell_type": "markdown",
   "id": "28205764-b4da-4ff5-a53d-3b912e899423",
   "metadata": {},
   "source": [
    "### Adding weather info to combined spa data"
   ]
  },
  {
   "cell_type": "code",
   "execution_count": 40,
   "id": "79117a8d-cad6-456d-8d6d-2932f45da7c6",
   "metadata": {},
   "outputs": [],
   "source": [
    "df_spa = pd.read_excel('spa_data.xlsx')"
   ]
  },
  {
   "cell_type": "code",
   "execution_count": 44,
   "id": "1a7f2d8b-45fb-466d-b417-89ec5b7b62ff",
   "metadata": {},
   "outputs": [],
   "source": [
    "df_weather = pd.read_excel('Blister Returns.xlsx', sheet_name = 'Weather')"
   ]
  },
  {
   "cell_type": "code",
   "execution_count": 45,
   "id": "414355d7-ef67-4891-b40c-92342bc8eab7",
   "metadata": {},
   "outputs": [
    {
     "name": "stdout",
     "output_type": "stream",
     "text": [
      "<class 'pandas.core.frame.DataFrame'>\n",
      "RangeIndex: 996 entries, 0 to 995\n",
      "Data columns (total 6 columns):\n",
      " #   Column               Non-Null Count  Dtype         \n",
      "---  ------               --------------  -----         \n",
      " 0   Date                 996 non-null    datetime64[ns]\n",
      " 1   Avg Temp             996 non-null    float64       \n",
      " 2   Avg Dew Point        996 non-null    float64       \n",
      " 3   Avg Humidity         996 non-null    float64       \n",
      " 4   Avg Pressure         996 non-null    float64       \n",
      " 5   Total Precipitation  996 non-null    float64       \n",
      "dtypes: datetime64[ns](1), float64(5)\n",
      "memory usage: 46.8 KB\n"
     ]
    }
   ],
   "source": [
    "df_weather.info()"
   ]
  },
  {
   "cell_type": "code",
   "execution_count": 46,
   "id": "2a70d262-65d2-4c14-9a3d-e71bd7429032",
   "metadata": {},
   "outputs": [
    {
     "data": {
      "text/html": [
       "<div>\n",
       "<style scoped>\n",
       "    .dataframe tbody tr th:only-of-type {\n",
       "        vertical-align: middle;\n",
       "    }\n",
       "\n",
       "    .dataframe tbody tr th {\n",
       "        vertical-align: top;\n",
       "    }\n",
       "\n",
       "    .dataframe thead th {\n",
       "        text-align: right;\n",
       "    }\n",
       "</style>\n",
       "<table border=\"1\" class=\"dataframe\">\n",
       "  <thead>\n",
       "    <tr style=\"text-align: right;\">\n",
       "      <th></th>\n",
       "      <th>Date</th>\n",
       "      <th>Avg Temp</th>\n",
       "      <th>Avg Dew Point</th>\n",
       "      <th>Avg Humidity</th>\n",
       "      <th>Avg Pressure</th>\n",
       "      <th>Total Precipitation</th>\n",
       "    </tr>\n",
       "  </thead>\n",
       "  <tbody>\n",
       "    <tr>\n",
       "      <th>0</th>\n",
       "      <td>2020-03-01</td>\n",
       "      <td>33.8</td>\n",
       "      <td>30.4</td>\n",
       "      <td>87.7</td>\n",
       "      <td>25.6</td>\n",
       "      <td>0.00</td>\n",
       "    </tr>\n",
       "    <tr>\n",
       "      <th>1</th>\n",
       "      <td>2020-03-02</td>\n",
       "      <td>34.5</td>\n",
       "      <td>21.0</td>\n",
       "      <td>59.6</td>\n",
       "      <td>25.8</td>\n",
       "      <td>0.23</td>\n",
       "    </tr>\n",
       "    <tr>\n",
       "      <th>2</th>\n",
       "      <td>2020-03-03</td>\n",
       "      <td>38.6</td>\n",
       "      <td>24.1</td>\n",
       "      <td>57.2</td>\n",
       "      <td>25.8</td>\n",
       "      <td>0.00</td>\n",
       "    </tr>\n",
       "    <tr>\n",
       "      <th>3</th>\n",
       "      <td>2020-03-04</td>\n",
       "      <td>44.5</td>\n",
       "      <td>28.5</td>\n",
       "      <td>56.6</td>\n",
       "      <td>25.9</td>\n",
       "      <td>0.00</td>\n",
       "    </tr>\n",
       "    <tr>\n",
       "      <th>4</th>\n",
       "      <td>2020-03-05</td>\n",
       "      <td>52.1</td>\n",
       "      <td>25.6</td>\n",
       "      <td>39.3</td>\n",
       "      <td>25.9</td>\n",
       "      <td>0.00</td>\n",
       "    </tr>\n",
       "  </tbody>\n",
       "</table>\n",
       "</div>"
      ],
      "text/plain": [
       "        Date  Avg Temp  Avg Dew Point  Avg Humidity  Avg Pressure  \\\n",
       "0 2020-03-01      33.8           30.4          87.7          25.6   \n",
       "1 2020-03-02      34.5           21.0          59.6          25.8   \n",
       "2 2020-03-03      38.6           24.1          57.2          25.8   \n",
       "3 2020-03-04      44.5           28.5          56.6          25.9   \n",
       "4 2020-03-05      52.1           25.6          39.3          25.9   \n",
       "\n",
       "   Total Precipitation  \n",
       "0                 0.00  \n",
       "1                 0.23  \n",
       "2                 0.00  \n",
       "3                 0.00  \n",
       "4                 0.00  "
      ]
     },
     "execution_count": 46,
     "metadata": {},
     "output_type": "execute_result"
    }
   ],
   "source": [
    "df_weather.head()"
   ]
  },
  {
   "cell_type": "code",
   "execution_count": 41,
   "id": "c45303c7-0991-4272-93cf-96b4b488258f",
   "metadata": {},
   "outputs": [
    {
     "data": {
      "text/html": [
       "<div>\n",
       "<style scoped>\n",
       "    .dataframe tbody tr th:only-of-type {\n",
       "        vertical-align: middle;\n",
       "    }\n",
       "\n",
       "    .dataframe tbody tr th {\n",
       "        vertical-align: top;\n",
       "    }\n",
       "\n",
       "    .dataframe thead th {\n",
       "        text-align: right;\n",
       "    }\n",
       "</style>\n",
       "<table border=\"1\" class=\"dataframe\">\n",
       "  <thead>\n",
       "    <tr style=\"text-align: right;\">\n",
       "      <th></th>\n",
       "      <th>serial#</th>\n",
       "      <th>blister</th>\n",
       "      <th>model</th>\n",
       "      <th>time_description</th>\n",
       "      <th>start_time</th>\n",
       "      <th>end_time</th>\n",
       "      <th>t_stamp</th>\n",
       "      <th>iso_press_avg</th>\n",
       "      <th>poly_press_avg</th>\n",
       "      <th>booth</th>\n",
       "      <th>iso_lbs_run_usage</th>\n",
       "      <th>poly_lbs_run_usage</th>\n",
       "      <th>spray_time</th>\n",
       "    </tr>\n",
       "  </thead>\n",
       "  <tbody>\n",
       "    <tr>\n",
       "      <th>0</th>\n",
       "      <td>239329</td>\n",
       "      <td>0</td>\n",
       "      <td>X6L</td>\n",
       "      <td>Noon-6PM</td>\n",
       "      <td>2020-06-29 15:51:41.617</td>\n",
       "      <td>2020-06-29 15:49:18.933</td>\n",
       "      <td>2020-06-29 16:04:07.387</td>\n",
       "      <td>1515.681641</td>\n",
       "      <td>1455.528809</td>\n",
       "      <td>1</td>\n",
       "      <td>1150.3600</td>\n",
       "      <td>1725.5300</td>\n",
       "      <td>0.659247</td>\n",
       "    </tr>\n",
       "    <tr>\n",
       "      <th>1</th>\n",
       "      <td>239506</td>\n",
       "      <td>0</td>\n",
       "      <td>R7</td>\n",
       "      <td>6AM-Noon</td>\n",
       "      <td>2020-06-26 06:31:24.403</td>\n",
       "      <td>2020-06-26 06:15:31.813</td>\n",
       "      <td>2020-06-26 06:45:52.803</td>\n",
       "      <td>1793.341553</td>\n",
       "      <td>1738.000000</td>\n",
       "      <td>2</td>\n",
       "      <td>99.0839</td>\n",
       "      <td>148.6260</td>\n",
       "      <td>0.260785</td>\n",
       "    </tr>\n",
       "    <tr>\n",
       "      <th>2</th>\n",
       "      <td>239505</td>\n",
       "      <td>0</td>\n",
       "      <td>A7</td>\n",
       "      <td>6AM-Noon</td>\n",
       "      <td>2020-06-26 06:05:28.090</td>\n",
       "      <td>2020-06-26 06:18:47.770</td>\n",
       "      <td>2020-06-26 06:18:48.383</td>\n",
       "      <td>2019.696655</td>\n",
       "      <td>1658.000000</td>\n",
       "      <td>3</td>\n",
       "      <td>47.0481</td>\n",
       "      <td>70.5721</td>\n",
       "      <td>0.263053</td>\n",
       "    </tr>\n",
       "    <tr>\n",
       "      <th>3</th>\n",
       "      <td>239484</td>\n",
       "      <td>0</td>\n",
       "      <td>X8</td>\n",
       "      <td>6AM-Noon</td>\n",
       "      <td>2020-06-26 06:39:23.573</td>\n",
       "      <td>2020-06-26 06:55:54.897</td>\n",
       "      <td>2020-06-26 06:55:56.197</td>\n",
       "      <td>1614.548462</td>\n",
       "      <td>1665.000000</td>\n",
       "      <td>1</td>\n",
       "      <td>107.0660</td>\n",
       "      <td>161.0000</td>\n",
       "      <td>0.288830</td>\n",
       "    </tr>\n",
       "    <tr>\n",
       "      <th>4</th>\n",
       "      <td>239487</td>\n",
       "      <td>0</td>\n",
       "      <td>X7</td>\n",
       "      <td>6AM-Noon</td>\n",
       "      <td>2020-06-26 06:05:07.870</td>\n",
       "      <td>2020-06-26 06:19:49.387</td>\n",
       "      <td>2020-06-26 06:19:50.087</td>\n",
       "      <td>1659.422852</td>\n",
       "      <td>1706.000000</td>\n",
       "      <td>1</td>\n",
       "      <td>51.8829</td>\n",
       "      <td>78.0000</td>\n",
       "      <td>0.263766</td>\n",
       "    </tr>\n",
       "  </tbody>\n",
       "</table>\n",
       "</div>"
      ],
      "text/plain": [
       "   serial#  blister model time_description              start_time  \\\n",
       "0   239329        0   X6L         Noon-6PM 2020-06-29 15:51:41.617   \n",
       "1   239506        0    R7         6AM-Noon 2020-06-26 06:31:24.403   \n",
       "2   239505        0    A7         6AM-Noon 2020-06-26 06:05:28.090   \n",
       "3   239484        0    X8         6AM-Noon 2020-06-26 06:39:23.573   \n",
       "4   239487        0    X7         6AM-Noon 2020-06-26 06:05:07.870   \n",
       "\n",
       "                 end_time                 t_stamp  iso_press_avg  \\\n",
       "0 2020-06-29 15:49:18.933 2020-06-29 16:04:07.387    1515.681641   \n",
       "1 2020-06-26 06:15:31.813 2020-06-26 06:45:52.803    1793.341553   \n",
       "2 2020-06-26 06:18:47.770 2020-06-26 06:18:48.383    2019.696655   \n",
       "3 2020-06-26 06:55:54.897 2020-06-26 06:55:56.197    1614.548462   \n",
       "4 2020-06-26 06:19:49.387 2020-06-26 06:19:50.087    1659.422852   \n",
       "\n",
       "   poly_press_avg  booth  iso_lbs_run_usage  poly_lbs_run_usage  spray_time  \n",
       "0     1455.528809      1          1150.3600           1725.5300    0.659247  \n",
       "1     1738.000000      2            99.0839            148.6260    0.260785  \n",
       "2     1658.000000      3            47.0481             70.5721    0.263053  \n",
       "3     1665.000000      1           107.0660            161.0000    0.288830  \n",
       "4     1706.000000      1            51.8829             78.0000    0.263766  "
      ]
     },
     "execution_count": 41,
     "metadata": {},
     "output_type": "execute_result"
    }
   ],
   "source": [
    "df_spa.head()"
   ]
  },
  {
   "cell_type": "code",
   "execution_count": 42,
   "id": "cdca36a1-ab96-4735-b29e-f5cbfcd65362",
   "metadata": {},
   "outputs": [
    {
     "name": "stdout",
     "output_type": "stream",
     "text": [
      "<class 'pandas.core.frame.DataFrame'>\n",
      "RangeIndex: 59100 entries, 0 to 59099\n",
      "Data columns (total 13 columns):\n",
      " #   Column              Non-Null Count  Dtype         \n",
      "---  ------              --------------  -----         \n",
      " 0   serial#             59100 non-null  int64         \n",
      " 1   blister             59100 non-null  int64         \n",
      " 2   model               59100 non-null  object        \n",
      " 3   time_description    59100 non-null  object        \n",
      " 4   start_time          59100 non-null  datetime64[ns]\n",
      " 5   end_time            59100 non-null  datetime64[ns]\n",
      " 6   t_stamp             59100 non-null  datetime64[ns]\n",
      " 7   iso_press_avg       59100 non-null  float64       \n",
      " 8   poly_press_avg      59100 non-null  float64       \n",
      " 9   booth               59100 non-null  int64         \n",
      " 10  iso_lbs_run_usage   59100 non-null  float64       \n",
      " 11  poly_lbs_run_usage  59100 non-null  float64       \n",
      " 12  spray_time          59100 non-null  float64       \n",
      "dtypes: datetime64[ns](3), float64(5), int64(3), object(2)\n",
      "memory usage: 5.9+ MB\n"
     ]
    }
   ],
   "source": [
    "df_spa.info()"
   ]
  },
  {
   "cell_type": "code",
   "execution_count": 49,
   "id": "3b986917-c4d3-4472-a87e-56f5cb989e43",
   "metadata": {},
   "outputs": [],
   "source": [
    "df_spa['stamp_date'] = df_spa['t_stamp'].dt.date"
   ]
  },
  {
   "cell_type": "code",
   "execution_count": 50,
   "id": "eacba21d-1bfc-436c-9627-a9adc6654144",
   "metadata": {},
   "outputs": [
    {
     "data": {
      "text/html": [
       "<div>\n",
       "<style scoped>\n",
       "    .dataframe tbody tr th:only-of-type {\n",
       "        vertical-align: middle;\n",
       "    }\n",
       "\n",
       "    .dataframe tbody tr th {\n",
       "        vertical-align: top;\n",
       "    }\n",
       "\n",
       "    .dataframe thead th {\n",
       "        text-align: right;\n",
       "    }\n",
       "</style>\n",
       "<table border=\"1\" class=\"dataframe\">\n",
       "  <thead>\n",
       "    <tr style=\"text-align: right;\">\n",
       "      <th></th>\n",
       "      <th>serial#</th>\n",
       "      <th>blister</th>\n",
       "      <th>model</th>\n",
       "      <th>time_description</th>\n",
       "      <th>start_time</th>\n",
       "      <th>end_time</th>\n",
       "      <th>t_stamp</th>\n",
       "      <th>iso_press_avg</th>\n",
       "      <th>poly_press_avg</th>\n",
       "      <th>booth</th>\n",
       "      <th>iso_lbs_run_usage</th>\n",
       "      <th>poly_lbs_run_usage</th>\n",
       "      <th>spray_time</th>\n",
       "      <th>stamp_date</th>\n",
       "    </tr>\n",
       "  </thead>\n",
       "  <tbody>\n",
       "    <tr>\n",
       "      <th>0</th>\n",
       "      <td>239329</td>\n",
       "      <td>0</td>\n",
       "      <td>X6L</td>\n",
       "      <td>Noon-6PM</td>\n",
       "      <td>2020-06-29 15:51:41.617</td>\n",
       "      <td>2020-06-29 15:49:18.933</td>\n",
       "      <td>2020-06-29 16:04:07.387</td>\n",
       "      <td>1515.681641</td>\n",
       "      <td>1455.528809</td>\n",
       "      <td>1</td>\n",
       "      <td>1150.3600</td>\n",
       "      <td>1725.5300</td>\n",
       "      <td>0.659247</td>\n",
       "      <td>2020-06-29</td>\n",
       "    </tr>\n",
       "    <tr>\n",
       "      <th>1</th>\n",
       "      <td>239506</td>\n",
       "      <td>0</td>\n",
       "      <td>R7</td>\n",
       "      <td>6AM-Noon</td>\n",
       "      <td>2020-06-26 06:31:24.403</td>\n",
       "      <td>2020-06-26 06:15:31.813</td>\n",
       "      <td>2020-06-26 06:45:52.803</td>\n",
       "      <td>1793.341553</td>\n",
       "      <td>1738.000000</td>\n",
       "      <td>2</td>\n",
       "      <td>99.0839</td>\n",
       "      <td>148.6260</td>\n",
       "      <td>0.260785</td>\n",
       "      <td>2020-06-26</td>\n",
       "    </tr>\n",
       "    <tr>\n",
       "      <th>2</th>\n",
       "      <td>239505</td>\n",
       "      <td>0</td>\n",
       "      <td>A7</td>\n",
       "      <td>6AM-Noon</td>\n",
       "      <td>2020-06-26 06:05:28.090</td>\n",
       "      <td>2020-06-26 06:18:47.770</td>\n",
       "      <td>2020-06-26 06:18:48.383</td>\n",
       "      <td>2019.696655</td>\n",
       "      <td>1658.000000</td>\n",
       "      <td>3</td>\n",
       "      <td>47.0481</td>\n",
       "      <td>70.5721</td>\n",
       "      <td>0.263053</td>\n",
       "      <td>2020-06-26</td>\n",
       "    </tr>\n",
       "    <tr>\n",
       "      <th>3</th>\n",
       "      <td>239484</td>\n",
       "      <td>0</td>\n",
       "      <td>X8</td>\n",
       "      <td>6AM-Noon</td>\n",
       "      <td>2020-06-26 06:39:23.573</td>\n",
       "      <td>2020-06-26 06:55:54.897</td>\n",
       "      <td>2020-06-26 06:55:56.197</td>\n",
       "      <td>1614.548462</td>\n",
       "      <td>1665.000000</td>\n",
       "      <td>1</td>\n",
       "      <td>107.0660</td>\n",
       "      <td>161.0000</td>\n",
       "      <td>0.288830</td>\n",
       "      <td>2020-06-26</td>\n",
       "    </tr>\n",
       "    <tr>\n",
       "      <th>4</th>\n",
       "      <td>239487</td>\n",
       "      <td>0</td>\n",
       "      <td>X7</td>\n",
       "      <td>6AM-Noon</td>\n",
       "      <td>2020-06-26 06:05:07.870</td>\n",
       "      <td>2020-06-26 06:19:49.387</td>\n",
       "      <td>2020-06-26 06:19:50.087</td>\n",
       "      <td>1659.422852</td>\n",
       "      <td>1706.000000</td>\n",
       "      <td>1</td>\n",
       "      <td>51.8829</td>\n",
       "      <td>78.0000</td>\n",
       "      <td>0.263766</td>\n",
       "      <td>2020-06-26</td>\n",
       "    </tr>\n",
       "  </tbody>\n",
       "</table>\n",
       "</div>"
      ],
      "text/plain": [
       "   serial#  blister model time_description              start_time  \\\n",
       "0   239329        0   X6L         Noon-6PM 2020-06-29 15:51:41.617   \n",
       "1   239506        0    R7         6AM-Noon 2020-06-26 06:31:24.403   \n",
       "2   239505        0    A7         6AM-Noon 2020-06-26 06:05:28.090   \n",
       "3   239484        0    X8         6AM-Noon 2020-06-26 06:39:23.573   \n",
       "4   239487        0    X7         6AM-Noon 2020-06-26 06:05:07.870   \n",
       "\n",
       "                 end_time                 t_stamp  iso_press_avg  \\\n",
       "0 2020-06-29 15:49:18.933 2020-06-29 16:04:07.387    1515.681641   \n",
       "1 2020-06-26 06:15:31.813 2020-06-26 06:45:52.803    1793.341553   \n",
       "2 2020-06-26 06:18:47.770 2020-06-26 06:18:48.383    2019.696655   \n",
       "3 2020-06-26 06:55:54.897 2020-06-26 06:55:56.197    1614.548462   \n",
       "4 2020-06-26 06:19:49.387 2020-06-26 06:19:50.087    1659.422852   \n",
       "\n",
       "   poly_press_avg  booth  iso_lbs_run_usage  poly_lbs_run_usage  spray_time  \\\n",
       "0     1455.528809      1          1150.3600           1725.5300    0.659247   \n",
       "1     1738.000000      2            99.0839            148.6260    0.260785   \n",
       "2     1658.000000      3            47.0481             70.5721    0.263053   \n",
       "3     1665.000000      1           107.0660            161.0000    0.288830   \n",
       "4     1706.000000      1            51.8829             78.0000    0.263766   \n",
       "\n",
       "   stamp_date  \n",
       "0  2020-06-29  \n",
       "1  2020-06-26  \n",
       "2  2020-06-26  \n",
       "3  2020-06-26  \n",
       "4  2020-06-26  "
      ]
     },
     "execution_count": 50,
     "metadata": {},
     "output_type": "execute_result"
    }
   ],
   "source": [
    "df_spa.head()"
   ]
  },
  {
   "cell_type": "code",
   "execution_count": 55,
   "id": "8d750302-6ac5-4a80-a5c3-b9017505d887",
   "metadata": {},
   "outputs": [
    {
     "name": "stderr",
     "output_type": "stream",
     "text": [
      "C:\\Users\\tpeterson\\AppData\\Local\\Programs\\Python\\Python310\\lib\\site-packages\\pandas\\core\\ops\\array_ops.py:73: FutureWarning: Comparison of Timestamp with datetime.date is deprecated in order to match the standard library behavior. In a future version these will be considered non-comparable. Use 'ts == pd.Timestamp(date)' or 'ts.date() == date' instead.\n",
      "  result = libops.scalar_compare(x.ravel(), y, op)\n",
      "C:\\Users\\tpeterson\\AppData\\Local\\Programs\\Python\\Python310\\lib\\site-packages\\pandas\\core\\ops\\array_ops.py:73: FutureWarning: Comparison of Timestamp with datetime.date is deprecated in order to match the standard library behavior. In a future version these will be considered non-comparable. Use 'ts == pd.Timestamp(date)' or 'ts.date() == date' instead.\n",
      "  result = libops.scalar_compare(x.ravel(), y, op)\n",
      "C:\\Users\\tpeterson\\AppData\\Local\\Programs\\Python\\Python310\\lib\\site-packages\\pandas\\core\\ops\\array_ops.py:73: FutureWarning: Comparison of Timestamp with datetime.date is deprecated in order to match the standard library behavior. In a future version these will be considered non-comparable. Use 'ts == pd.Timestamp(date)' or 'ts.date() == date' instead.\n",
      "  result = libops.scalar_compare(x.ravel(), y, op)\n",
      "C:\\Users\\tpeterson\\AppData\\Local\\Programs\\Python\\Python310\\lib\\site-packages\\pandas\\core\\ops\\array_ops.py:73: FutureWarning: Comparison of Timestamp with datetime.date is deprecated in order to match the standard library behavior. In a future version these will be considered non-comparable. Use 'ts == pd.Timestamp(date)' or 'ts.date() == date' instead.\n",
      "  result = libops.scalar_compare(x.ravel(), y, op)\n",
      "C:\\Users\\tpeterson\\AppData\\Local\\Programs\\Python\\Python310\\lib\\site-packages\\pandas\\core\\ops\\array_ops.py:73: FutureWarning: Comparison of Timestamp with datetime.date is deprecated in order to match the standard library behavior. In a future version these will be considered non-comparable. Use 'ts == pd.Timestamp(date)' or 'ts.date() == date' instead.\n",
      "  result = libops.scalar_compare(x.ravel(), y, op)\n"
     ]
    }
   ],
   "source": [
    "L = df_weather.shape[0]\n",
    "i = 0\n",
    "for x in range(L):\n",
    "    date = df_weather.iloc[i]['Date']\n",
    "    df_spa.loc[(df_spa['stamp_date'] == date), \"Avg Temp\"] = df_weather.iloc[i]['Avg Temp']\n",
    "    df_spa.loc[(df_spa['stamp_date'] == date), \"Avg Dew Point\"] = df_weather.iloc[i]['Avg Dew Point']\n",
    "    df_spa.loc[(df_spa['stamp_date'] == date), \"Avg Humidity\"] = df_weather.iloc[i]['Avg Humidity']\n",
    "    df_spa.loc[(df_spa['stamp_date'] == date), \"Avg Pressure\"] = df_weather.iloc[i]['Avg Pressure']\n",
    "    df_spa.loc[(df_spa['stamp_date'] == date), \"Total Precipitation\"] = df_weather.iloc[i]['Total Precipitation']\n",
    "    i += 1"
   ]
  },
  {
   "cell_type": "code",
   "execution_count": 56,
   "id": "bc82b5f7-c993-40af-af00-b0d0f698c563",
   "metadata": {},
   "outputs": [
    {
     "data": {
      "text/html": [
       "<div>\n",
       "<style scoped>\n",
       "    .dataframe tbody tr th:only-of-type {\n",
       "        vertical-align: middle;\n",
       "    }\n",
       "\n",
       "    .dataframe tbody tr th {\n",
       "        vertical-align: top;\n",
       "    }\n",
       "\n",
       "    .dataframe thead th {\n",
       "        text-align: right;\n",
       "    }\n",
       "</style>\n",
       "<table border=\"1\" class=\"dataframe\">\n",
       "  <thead>\n",
       "    <tr style=\"text-align: right;\">\n",
       "      <th></th>\n",
       "      <th>serial#</th>\n",
       "      <th>blister</th>\n",
       "      <th>model</th>\n",
       "      <th>time_description</th>\n",
       "      <th>start_time</th>\n",
       "      <th>end_time</th>\n",
       "      <th>t_stamp</th>\n",
       "      <th>iso_press_avg</th>\n",
       "      <th>poly_press_avg</th>\n",
       "      <th>booth</th>\n",
       "      <th>iso_lbs_run_usage</th>\n",
       "      <th>poly_lbs_run_usage</th>\n",
       "      <th>spray_time</th>\n",
       "      <th>stamp_date</th>\n",
       "      <th>Avg Temp</th>\n",
       "      <th>Avg Dew Point</th>\n",
       "      <th>Avg Humidity</th>\n",
       "      <th>Avg Pressure</th>\n",
       "      <th>Total Precipitation</th>\n",
       "    </tr>\n",
       "  </thead>\n",
       "  <tbody>\n",
       "    <tr>\n",
       "      <th>0</th>\n",
       "      <td>239329</td>\n",
       "      <td>0</td>\n",
       "      <td>X6L</td>\n",
       "      <td>Noon-6PM</td>\n",
       "      <td>2020-06-29 15:51:41.617</td>\n",
       "      <td>2020-06-29 15:49:18.933</td>\n",
       "      <td>2020-06-29 16:04:07.387</td>\n",
       "      <td>1515.681641</td>\n",
       "      <td>1455.528809</td>\n",
       "      <td>1</td>\n",
       "      <td>1150.3600</td>\n",
       "      <td>1725.5300</td>\n",
       "      <td>0.659247</td>\n",
       "      <td>2020-06-29</td>\n",
       "      <td>53.8</td>\n",
       "      <td>40.5</td>\n",
       "      <td>64.4</td>\n",
       "      <td>25.6</td>\n",
       "      <td>0.28</td>\n",
       "    </tr>\n",
       "    <tr>\n",
       "      <th>1</th>\n",
       "      <td>239506</td>\n",
       "      <td>0</td>\n",
       "      <td>R7</td>\n",
       "      <td>6AM-Noon</td>\n",
       "      <td>2020-06-26 06:31:24.403</td>\n",
       "      <td>2020-06-26 06:15:31.813</td>\n",
       "      <td>2020-06-26 06:45:52.803</td>\n",
       "      <td>1793.341553</td>\n",
       "      <td>1738.000000</td>\n",
       "      <td>2</td>\n",
       "      <td>99.0839</td>\n",
       "      <td>148.6260</td>\n",
       "      <td>0.260785</td>\n",
       "      <td>2020-06-26</td>\n",
       "      <td>78.4</td>\n",
       "      <td>43.8</td>\n",
       "      <td>33.6</td>\n",
       "      <td>25.7</td>\n",
       "      <td>0.00</td>\n",
       "    </tr>\n",
       "    <tr>\n",
       "      <th>2</th>\n",
       "      <td>239505</td>\n",
       "      <td>0</td>\n",
       "      <td>A7</td>\n",
       "      <td>6AM-Noon</td>\n",
       "      <td>2020-06-26 06:05:28.090</td>\n",
       "      <td>2020-06-26 06:18:47.770</td>\n",
       "      <td>2020-06-26 06:18:48.383</td>\n",
       "      <td>2019.696655</td>\n",
       "      <td>1658.000000</td>\n",
       "      <td>3</td>\n",
       "      <td>47.0481</td>\n",
       "      <td>70.5721</td>\n",
       "      <td>0.263053</td>\n",
       "      <td>2020-06-26</td>\n",
       "      <td>78.4</td>\n",
       "      <td>43.8</td>\n",
       "      <td>33.6</td>\n",
       "      <td>25.7</td>\n",
       "      <td>0.00</td>\n",
       "    </tr>\n",
       "    <tr>\n",
       "      <th>3</th>\n",
       "      <td>239484</td>\n",
       "      <td>0</td>\n",
       "      <td>X8</td>\n",
       "      <td>6AM-Noon</td>\n",
       "      <td>2020-06-26 06:39:23.573</td>\n",
       "      <td>2020-06-26 06:55:54.897</td>\n",
       "      <td>2020-06-26 06:55:56.197</td>\n",
       "      <td>1614.548462</td>\n",
       "      <td>1665.000000</td>\n",
       "      <td>1</td>\n",
       "      <td>107.0660</td>\n",
       "      <td>161.0000</td>\n",
       "      <td>0.288830</td>\n",
       "      <td>2020-06-26</td>\n",
       "      <td>78.4</td>\n",
       "      <td>43.8</td>\n",
       "      <td>33.6</td>\n",
       "      <td>25.7</td>\n",
       "      <td>0.00</td>\n",
       "    </tr>\n",
       "    <tr>\n",
       "      <th>4</th>\n",
       "      <td>239487</td>\n",
       "      <td>0</td>\n",
       "      <td>X7</td>\n",
       "      <td>6AM-Noon</td>\n",
       "      <td>2020-06-26 06:05:07.870</td>\n",
       "      <td>2020-06-26 06:19:49.387</td>\n",
       "      <td>2020-06-26 06:19:50.087</td>\n",
       "      <td>1659.422852</td>\n",
       "      <td>1706.000000</td>\n",
       "      <td>1</td>\n",
       "      <td>51.8829</td>\n",
       "      <td>78.0000</td>\n",
       "      <td>0.263766</td>\n",
       "      <td>2020-06-26</td>\n",
       "      <td>78.4</td>\n",
       "      <td>43.8</td>\n",
       "      <td>33.6</td>\n",
       "      <td>25.7</td>\n",
       "      <td>0.00</td>\n",
       "    </tr>\n",
       "  </tbody>\n",
       "</table>\n",
       "</div>"
      ],
      "text/plain": [
       "   serial#  blister model time_description              start_time  \\\n",
       "0   239329        0   X6L         Noon-6PM 2020-06-29 15:51:41.617   \n",
       "1   239506        0    R7         6AM-Noon 2020-06-26 06:31:24.403   \n",
       "2   239505        0    A7         6AM-Noon 2020-06-26 06:05:28.090   \n",
       "3   239484        0    X8         6AM-Noon 2020-06-26 06:39:23.573   \n",
       "4   239487        0    X7         6AM-Noon 2020-06-26 06:05:07.870   \n",
       "\n",
       "                 end_time                 t_stamp  iso_press_avg  \\\n",
       "0 2020-06-29 15:49:18.933 2020-06-29 16:04:07.387    1515.681641   \n",
       "1 2020-06-26 06:15:31.813 2020-06-26 06:45:52.803    1793.341553   \n",
       "2 2020-06-26 06:18:47.770 2020-06-26 06:18:48.383    2019.696655   \n",
       "3 2020-06-26 06:55:54.897 2020-06-26 06:55:56.197    1614.548462   \n",
       "4 2020-06-26 06:19:49.387 2020-06-26 06:19:50.087    1659.422852   \n",
       "\n",
       "   poly_press_avg  booth  iso_lbs_run_usage  poly_lbs_run_usage  spray_time  \\\n",
       "0     1455.528809      1          1150.3600           1725.5300    0.659247   \n",
       "1     1738.000000      2            99.0839            148.6260    0.260785   \n",
       "2     1658.000000      3            47.0481             70.5721    0.263053   \n",
       "3     1665.000000      1           107.0660            161.0000    0.288830   \n",
       "4     1706.000000      1            51.8829             78.0000    0.263766   \n",
       "\n",
       "   stamp_date  Avg Temp  Avg Dew Point  Avg Humidity  Avg Pressure  \\\n",
       "0  2020-06-29      53.8           40.5          64.4          25.6   \n",
       "1  2020-06-26      78.4           43.8          33.6          25.7   \n",
       "2  2020-06-26      78.4           43.8          33.6          25.7   \n",
       "3  2020-06-26      78.4           43.8          33.6          25.7   \n",
       "4  2020-06-26      78.4           43.8          33.6          25.7   \n",
       "\n",
       "   Total Precipitation  \n",
       "0                 0.28  \n",
       "1                 0.00  \n",
       "2                 0.00  \n",
       "3                 0.00  \n",
       "4                 0.00  "
      ]
     },
     "execution_count": 56,
     "metadata": {},
     "output_type": "execute_result"
    }
   ],
   "source": [
    "df_spa.head()"
   ]
  },
  {
   "cell_type": "code",
   "execution_count": 57,
   "id": "c58f2582-c6fb-4542-92da-6c99c87fd79c",
   "metadata": {},
   "outputs": [],
   "source": [
    "df_spa.to_excel('model_dataset.xlsx', index= False)"
   ]
  },
  {
   "cell_type": "code",
   "execution_count": 58,
   "id": "16d422f1-ca05-43f0-af8d-13b852509b26",
   "metadata": {},
   "outputs": [
    {
     "data": {
      "text/plain": [
       "0    0.98758\n",
       "1    0.01242\n",
       "Name: blister, dtype: float64"
      ]
     },
     "execution_count": 58,
     "metadata": {},
     "output_type": "execute_result"
    }
   ],
   "source": [
    "df_spa['blister'].value_counts(True)"
   ]
  }
 ],
 "metadata": {
  "kernelspec": {
   "display_name": "Python 3 (ipykernel)",
   "language": "python",
   "name": "python3"
  },
  "language_info": {
   "codemirror_mode": {
    "name": "ipython",
    "version": 3
   },
   "file_extension": ".py",
   "mimetype": "text/x-python",
   "name": "python",
   "nbconvert_exporter": "python",
   "pygments_lexer": "ipython3",
   "version": "3.10.0"
  }
 },
 "nbformat": 4,
 "nbformat_minor": 5
}
